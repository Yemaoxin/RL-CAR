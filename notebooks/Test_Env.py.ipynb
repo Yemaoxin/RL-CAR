{
 "cells": [
  {
   "cell_type": "code",
   "execution_count": 12,
   "metadata": {},
   "outputs": [],
   "source": [
    "from environment import CacheEnv"
   ]
  },
  {
   "cell_type": "code",
   "execution_count": 13,
   "metadata": {},
   "outputs": [
    {
     "data": {
      "text/plain": [
       "{0: [0, 1], 1: [0, 1], 2: [0, 1], 3: [0, 1], 4: [0, 1]}"
      ]
     },
     "execution_count": 13,
     "metadata": {},
     "output_type": "execute_result"
    }
   ],
   "source": [
    "env = CacheEnv(eps_len=100, n_pages=10, limit=5)\n",
    "s = env.reset()\n",
    "s"
   ]
  },
  {
   "cell_type": "code",
   "execution_count": 14,
   "metadata": {},
   "outputs": [
    {
     "data": {
      "text/plain": [
       "array([[0, 1],\n",
       "       [0, 1],\n",
       "       [0, 1],\n",
       "       [0, 1],\n",
       "       [0, 1]])"
      ]
     },
     "execution_count": 14,
     "metadata": {},
     "output_type": "execute_result"
    }
   ],
   "source": [
    "env.nn_state()"
   ]
  },
  {
   "cell_type": "code",
   "execution_count": 15,
   "metadata": {
    "scrolled": false
   },
   "outputs": [
    {
     "name": "stdout",
     "output_type": "stream",
     "text": [
      "{0: [1, 1], 1: [1, 1], 2: [1, 1], 3: [0, 2], 4: [1, 1]}\n",
      "This was a hit, OS asked for: 3\n",
      "Reward: 1\n",
      "Done: False\n",
      "{0: [2, 1], 2: [2, 1], 3: [1, 2], 4: [2, 1], 8: [0, 1]}\n",
      "This was not a hit, OS asked for: 8\n",
      "Reward: -1\n",
      "Done: False\n",
      "{0: [3, 1], 2: [3, 1], 3: [2, 2], 4: [3, 1], 8: [1, 1]}\n",
      "This was not a hit, OS asked for: 6\n",
      "Reward: -10\n",
      "Done: False\n"
     ]
    }
   ],
   "source": [
    "for x in range(3):\n",
    "    s, r, done, observation = env.step(1)\n",
    "    print(s)\n",
    "    print(observation)\n",
    "    print(f\"Reward: {r}\")\n",
    "    print(f\"Done: {done}\")\n",
    "    if done:\n",
    "        break"
   ]
  },
  {
   "cell_type": "code",
   "execution_count": null,
   "metadata": {},
   "outputs": [],
   "source": []
  }
 ],
 "metadata": {
  "kernelspec": {
   "display_name": "Python 3",
   "language": "python",
   "name": "python3"
  },
  "language_info": {
   "codemirror_mode": {
    "name": "ipython",
    "version": 3
   },
   "file_extension": ".py",
   "mimetype": "text/x-python",
   "name": "python",
   "nbconvert_exporter": "python",
   "pygments_lexer": "ipython3",
   "version": "3.7.3"
  }
 },
 "nbformat": 4,
 "nbformat_minor": 2
}
