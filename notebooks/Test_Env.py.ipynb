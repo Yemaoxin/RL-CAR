{
 "cells": [
  {
   "cell_type": "code",
   "execution_count": 1,
   "metadata": {},
   "outputs": [],
   "source": [
    "# from environment import CacheEnv\n",
    "from e2 import CacheEnv"
   ]
  },
  {
   "cell_type": "code",
   "execution_count": 2,
   "metadata": {},
   "outputs": [
    {
     "data": {
      "text/plain": [
       "array([0, 1, 0, 1, 0, 1, 0, 1, 0, 1])"
      ]
     },
     "execution_count": 2,
     "metadata": {},
     "output_type": "execute_result"
    }
   ],
   "source": [
    "env = CacheEnv(eps_len=100, n_pages=10, limit=5)\n",
    "s = env.reset()\n",
    "s"
   ]
  },
  {
   "cell_type": "code",
   "execution_count": 13,
   "metadata": {},
   "outputs": [
    {
     "data": {
      "text/plain": [
       "(array([24,  2, 10,  3,  8,  6,  2,  8,  1,  5]),\n",
       " 1,\n",
       " False,\n",
       " 'There were 3 hits.')"
      ]
     },
     "execution_count": 13,
     "metadata": {},
     "output_type": "execute_result"
    }
   ],
   "source": [
    "env.step(1)"
   ]
  },
  {
   "cell_type": "code",
   "execution_count": 15,
   "metadata": {
    "scrolled": false
   },
   "outputs": [
    {
     "name": "stdout",
     "output_type": "stream",
     "text": [
      "[ 2  3  1  9  6  6  7  4  4 10]\n",
      "There were 4 hits.\n",
      "Reward: 2\n",
      "Done: False\n",
      "[ 5  3  9  6 10  4  7 10  1 12]\n",
      "There were 2 hits.\n",
      "Reward: 0\n",
      "Done: False\n",
      "[ 9  3 14  4 11 10  1 14  3 11]\n",
      "There were 3 hits.\n",
      "Reward: 1\n",
      "Done: False\n"
     ]
    }
   ],
   "source": [
    "for x in range(3):\n",
    "    s, r, done, observation = env.step(1)\n",
    "    print(s)\n",
    "    print(observation)\n",
    "    print(f\"Reward: {r}\")\n",
    "    print(f\"Done: {done}\")\n",
    "    if done:\n",
    "        break"
   ]
  },
  {
   "cell_type": "code",
   "execution_count": null,
   "metadata": {},
   "outputs": [],
   "source": []
  }
 ],
 "metadata": {
  "kernelspec": {
   "display_name": "Python 3",
   "language": "python",
   "name": "python3"
  },
  "language_info": {
   "codemirror_mode": {
    "name": "ipython",
    "version": 3
   },
   "file_extension": ".py",
   "mimetype": "text/x-python",
   "name": "python",
   "nbconvert_exporter": "python",
   "pygments_lexer": "ipython3",
   "version": "3.7.3"
  }
 },
 "nbformat": 4,
 "nbformat_minor": 2
}
