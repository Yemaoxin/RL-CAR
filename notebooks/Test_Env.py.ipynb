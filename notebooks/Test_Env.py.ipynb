{
 "cells": [
  {
   "cell_type": "code",
   "execution_count": 20,
   "metadata": {},
   "outputs": [],
   "source": [
    "from environment import CacheEnv"
   ]
  },
  {
   "cell_type": "code",
   "execution_count": 21,
   "metadata": {},
   "outputs": [],
   "source": [
    "env = CacheEnv(eps_len=10)\n",
    "s = env.reset()"
   ]
  },
  {
   "cell_type": "code",
   "execution_count": 22,
   "metadata": {},
   "outputs": [
    {
     "data": {
      "text/plain": [
       "{0: [0, 1], 1: [0, 1], 2: [0, 1]}"
      ]
     },
     "execution_count": 22,
     "metadata": {},
     "output_type": "execute_result"
    }
   ],
   "source": [
    "s"
   ]
  },
  {
   "cell_type": "code",
   "execution_count": 23,
   "metadata": {},
   "outputs": [
    {
     "name": "stdout",
     "output_type": "stream",
     "text": [
      "{0: [0, 1], 1: [0, 1], 2: [0, 1]}\n",
      "This was a hit, OS asked for: 2\n",
      "Reward: 1\n",
      "Done: False\n",
      "This was not a hit, OS asked for: 3\n",
      "Reward: -1\n",
      "Done: False\n",
      "This was not a hit, OS asked for: 2\n",
      "Reward: -10\n",
      "Done: False\n",
      "This was not a hit, OS asked for: 3\n",
      "Reward: -10\n",
      "Done: False\n",
      "This was not a hit, OS asked for: 3\n",
      "Reward: -10\n",
      "Done: False\n",
      "This was not a hit, OS asked for: 0\n",
      "Reward: -10\n",
      "Done: False\n",
      "This was not a hit, OS asked for: 4\n",
      "Reward: -10\n",
      "Done: False\n",
      "This was not a hit, OS asked for: 1\n",
      "Reward: -10\n",
      "Done: False\n",
      "This was not a hit, OS asked for: 4\n",
      "Reward: -10\n",
      "Done: False\n",
      "This was not a hit, OS asked for: 1\n",
      "Reward: -10\n",
      "Done: True\n"
     ]
    }
   ],
   "source": [
    "for x in range(19):\n",
    "    s, r, done, observation = env.step(1)\n",
    "    print(observation)\n",
    "    print(f\"Reward: {r}\")\n",
    "    print(f\"Done: {done}\")\n",
    "    if done:\n",
    "        break"
   ]
  },
  {
   "cell_type": "code",
   "execution_count": null,
   "metadata": {},
   "outputs": [],
   "source": []
  }
 ],
 "metadata": {
  "kernelspec": {
   "display_name": "Python 3",
   "language": "python",
   "name": "python3"
  },
  "language_info": {
   "codemirror_mode": {
    "name": "ipython",
    "version": 3
   },
   "file_extension": ".py",
   "mimetype": "text/x-python",
   "name": "python",
   "nbconvert_exporter": "python",
   "pygments_lexer": "ipython3",
   "version": "3.7.3"
  }
 },
 "nbformat": 4,
 "nbformat_minor": 2
}
