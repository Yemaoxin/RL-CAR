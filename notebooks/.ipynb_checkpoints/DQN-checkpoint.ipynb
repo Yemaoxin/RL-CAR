{
 "cells": [
  {
   "cell_type": "markdown",
   "metadata": {},
   "source": [
    "# Imports"
   ]
  },
  {
   "cell_type": "code",
   "execution_count": 1,
   "metadata": {},
   "outputs": [],
   "source": [
    "import torch\n",
    "import torch.nn as nn\n",
    "import torch.nn.functional as F\n",
    "import numpy as np\n",
    "import gym\n",
    "import time\n",
    "# from environment import CacheEnv\n",
    "from e2 import CacheEnv\n",
    "# from environment import scheduler\n",
    "%load_ext autoreload\n",
    "%autoreload 2"
   ]
  },
  {
   "cell_type": "code",
   "execution_count": 2,
   "metadata": {},
   "outputs": [],
   "source": [
    "# x = np.random.rand(20)\n",
    "# x /= x.sum()\n",
    "# x"
   ]
  },
  {
   "cell_type": "code",
   "execution_count": 3,
   "metadata": {},
   "outputs": [
    {
     "name": "stdout",
     "output_type": "stream",
     "text": [
      "<os_sim.OS object at 0x7fbbaead12b0>\n",
      "Cache limit: 10\n",
      "Total Pages: 20\n"
     ]
    }
   ],
   "source": [
    "# env vars\n",
    "EPS_LEN = 100\n",
    "N_PAGES = 20\n",
    "CACHE_LIMIT = 10 \n",
    "env = CacheEnv(\n",
    "        eps_len=EPS_LEN, \n",
    "        n_pages=N_PAGES, \n",
    "        limit=CACHE_LIMIT\n",
    "        )\n",
    "\n",
    "# dqn vars\n",
    "N_EPS = 60000\n",
    "BATCH_SIZE = 32\n",
    "# LR = 3e-4                   # learning rate for Adam\n",
    "LR = 1e-2                   # learning rate for SGD\n",
    "EPSILON = 0.9               # greedy policy\n",
    "GAMMA = 0.9                 # reward discount\n",
    "TARGET_REPLACE_ITER = 2000   # target update frequency\n",
    "MEMORY_CAPACITY = 20000\n",
    "# MEMORY_CAPACITY = 2000\n",
    "\n",
    "s = env.reset()\n",
    "N_ACTIONS = env.action_space_n\n",
    "STATE_SHAPE = (CACHE_LIMIT, 2)\n",
    "N_STATES = STATE_SHAPE[0]*STATE_SHAPE[1]"
   ]
  },
  {
   "cell_type": "code",
   "execution_count": 4,
   "metadata": {},
   "outputs": [
    {
     "name": "stdout",
     "output_type": "stream",
     "text": [
      "10\n",
      "20\n"
     ]
    }
   ],
   "source": [
    "print(N_ACTIONS)\n",
    "print(N_STATES)"
   ]
  },
  {
   "cell_type": "code",
   "execution_count": 5,
   "metadata": {},
   "outputs": [],
   "source": [
    "class Net(nn.Module):\n",
    "    def __init__(self, ):\n",
    "        super(Net, self).__init__()\n",
    "        input_size = N_STATES\n",
    "        self.fc1 = nn.Linear(input_size, 100)\n",
    "        self.fc2 = nn.Linear(100, 10)\n",
    "#         self.fc3 = nn.Linear(10, 100)\n",
    "        self.out = nn.Linear(10, N_ACTIONS)\n",
    "\n",
    "    def forward(self, x):\n",
    "#         bs = x.shape[0]\n",
    "        x = F.relu(self.fc1(x))\n",
    "        x = F.relu(self.fc2(x))\n",
    "#         x = F.relu(self.fc3(x))\n",
    "        x = self.out(x)\n",
    "        return F.softmax(x, dim=0)"
   ]
  },
  {
   "cell_type": "code",
   "execution_count": 6,
   "metadata": {},
   "outputs": [],
   "source": [
    "class DQN(object):\n",
    "    def __init__(self):\n",
    "        self.eval_net, self.target_net = Net().cuda(), Net().cuda()\n",
    "        self.learn_step_counter = 0                                     # for target updating\n",
    "        self.memory_counter = 0                                         # for storing memory\n",
    "        self.memory = np.zeros((MEMORY_CAPACITY, N_STATES * 2 + 2))     # initialize memory\n",
    "#         self.optimizer = torch.optim.Adam(self.eval_net.parameters(), lr=LR)\n",
    "        self.optimizer = torch.optim.SGD(self.eval_net.parameters(), lr=LR)\n",
    "        self.loss_func = nn.MSELoss()\n",
    "        self.PATH = 'model/'\n",
    "\n",
    "    def choose_action(self, x):\n",
    "#         print(f\"X for choose action: {x}\")\n",
    "        x = torch.unsqueeze(torch.FloatTensor(x), 0).cuda()\n",
    "        # input only one sample\n",
    "        if np.random.uniform() < EPSILON:   # greedy\n",
    "            actions_value = self.eval_net(x).detach().cpu()\n",
    "            action = torch.argmax(actions_value).cpu().data.numpy()\n",
    "        else:   # random\n",
    "            action = np.random.randint(0, N_ACTIONS)\n",
    "        return action\n",
    "\n",
    "    def store_transition(self, s, a, r, s_):\n",
    "        transition = np.hstack((s, [a, r], s_))\n",
    "        # replace the old memory with new memory\n",
    "        index = self.memory_counter % MEMORY_CAPACITY\n",
    "        self.memory[index, :] = transition\n",
    "        self.memory_counter += 1\n",
    "\n",
    "    def learn(self):\n",
    "        # target parameter update\n",
    "        if self.learn_step_counter % TARGET_REPLACE_ITER == 0:\n",
    "            self.target_net.load_state_dict(self.eval_net.state_dict())\n",
    "        self.learn_step_counter += 1\n",
    "\n",
    "        # sample batch transitions\n",
    "        sample_index = np.random.choice(MEMORY_CAPACITY, BATCH_SIZE)\n",
    "        b_memory = self.memory[sample_index, :]\n",
    "        b_s = torch.FloatTensor(b_memory[:, :N_STATES]).cuda()\n",
    "        b_a = torch.LongTensor(b_memory[:, N_STATES:N_STATES+1].astype(int)).cuda()\n",
    "        b_r = torch.FloatTensor(b_memory[:, N_STATES+1:N_STATES+2]).cuda()\n",
    "        b_s_ = torch.FloatTensor(b_memory[:, -N_STATES:]).cuda()\n",
    "\n",
    "        # q_eval w.r.t the action in experience\n",
    "        q_eval = self.eval_net(b_s).gather(1, b_a)  # shape (batch, 1) \n",
    "#         q_eval = self.eval_net(b_s)  # shape (batch, 1) \n",
    "        \n",
    "        q_next = self.target_net(b_s_).detach()   # detach from graph, don't backpropagate\n",
    "#         q_target = b_r + GAMMA * q_next.max(1)[0].view(BATCH_SIZE, 1)   # shape (batch, 1)\n",
    "        q_target = b_r + GAMMA * q_next.argmax(dim=1).view(BATCH_SIZE, 1)   # shape (batch, 1)\n",
    "        \n",
    "        self.q_target = q_target\n",
    "        self.q_eval = q_eval\n",
    "        loss = self.loss_func(q_eval, q_target)\n",
    "\n",
    "        self.optimizer.zero_grad()\n",
    "        loss.backward()\n",
    "        self.optimizer.step()\n",
    "        \n",
    "    def save_model(self, eval_name = 'eval_net', train_name = 'train_net'):\n",
    "        torch.save(self.eval_net.state_dict(), self.PATH  + str(N_STATES) + eval_name)\n",
    "        torch.save(self.target_net.state_dict(), self.PATH  + str(N_STATES)+ train_name)\n",
    "        \n",
    "    def load_model(self, eval_name = 'eval_net.m', train_name = 'train_net.m'):\n",
    "        self.eval_net.load_state_dict(torch.load(self.PATH +  str(N_STATES) + eval_name))\n",
    "        self.target_net.load_state_dict(torch.load(self.PATH  + str(N_STATES) + train_name))"
   ]
  },
  {
   "cell_type": "code",
   "execution_count": 7,
   "metadata": {
    "scrolled": true
   },
   "outputs": [
    {
     "name": "stdout",
     "output_type": "stream",
     "text": [
      "Start\n",
      "\n",
      "Collecting experience...\n",
      "Ep:  200 | Ep_r:  59 Ran for: 100\n",
      "Ep:  300 | Ep_r:  24 Ran for: 100\n",
      "Ep:  400 | Ep_r:  -1 Ran for: 100\n",
      "Ep:  500 | Ep_r:  40 Ran for: 100\n",
      "Ep:  600 | Ep_r:  38 Ran for: 100\n",
      "Ep:  700 | Ep_r:  32 Ran for: 100\n",
      "Ep:  800 | Ep_r:  43 Ran for: 100\n",
      "Ep:  900 | Ep_r:  38 Ran for: 100\n",
      "Ep:  1000 | Ep_r:  10 Ran for: 100\n",
      "Ep:  1100 | Ep_r:  65 Ran for: 100\n",
      "Ep:  1200 | Ep_r:  85 Ran for: 100\n",
      "Ep:  1300 | Ep_r:  41 Ran for: 100\n",
      "Ep:  1400 | Ep_r:  39 Ran for: 100\n",
      "Ep:  1500 | Ep_r:  31 Ran for: 100\n",
      "Ep:  1600 | Ep_r:  34 Ran for: 100\n",
      "Ep:  1700 | Ep_r:  13 Ran for: 100\n",
      "Ep:  1800 | Ep_r:  27 Ran for: 100\n",
      "Ep:  1900 | Ep_r:  23 Ran for: 100\n",
      "Ep:  2000 | Ep_r:  42 Ran for: 100\n",
      "Ep:  2100 | Ep_r:  12 Ran for: 100\n",
      "Ep:  2200 | Ep_r:  6 Ran for: 100\n",
      "Ep:  2300 | Ep_r:  37 Ran for: 100\n",
      "Ep:  2400 | Ep_r:  6 Ran for: 100\n",
      "Ep:  2500 | Ep_r:  76 Ran for: 100\n",
      "Ep:  2600 | Ep_r:  84 Ran for: 100\n",
      "Ep:  2700 | Ep_r:  13 Ran for: 100\n",
      "Ep:  2800 | Ep_r:  116 Ran for: 100\n",
      "Ep:  2900 | Ep_r:  14 Ran for: 100\n",
      "Ep:  3000 | Ep_r:  58 Ran for: 100\n",
      "Ep:  3100 | Ep_r:  45 Ran for: 100\n",
      "Ep:  3200 | Ep_r:  14 Ran for: 100\n",
      "Ep:  3300 | Ep_r:  62 Ran for: 100\n",
      "Ep:  3400 | Ep_r:  56 Ran for: 100\n"
     ]
    },
    {
     "ename": "KeyboardInterrupt",
     "evalue": "",
     "output_type": "error",
     "traceback": [
      "\u001b[0;31m---------------------------------------------------------------------------\u001b[0m",
      "\u001b[0;31mKeyboardInterrupt\u001b[0m                         Traceback (most recent call last)",
      "\u001b[0;32m<ipython-input-7-2ea340e1b737>\u001b[0m in \u001b[0;36m<module>\u001b[0;34m\u001b[0m\n\u001b[1;32m     17\u001b[0m \u001b[0;34m\u001b[0m\u001b[0m\n\u001b[1;32m     18\u001b[0m         \u001b[0;32mif\u001b[0m \u001b[0mdqn\u001b[0m\u001b[0;34m.\u001b[0m\u001b[0mmemory_counter\u001b[0m \u001b[0;34m>\u001b[0m \u001b[0mMEMORY_CAPACITY\u001b[0m\u001b[0;34m:\u001b[0m\u001b[0;34m\u001b[0m\u001b[0;34m\u001b[0m\u001b[0m\n\u001b[0;32m---> 19\u001b[0;31m             \u001b[0mdqn\u001b[0m\u001b[0;34m.\u001b[0m\u001b[0mlearn\u001b[0m\u001b[0;34m(\u001b[0m\u001b[0;34m)\u001b[0m\u001b[0;34m\u001b[0m\u001b[0;34m\u001b[0m\u001b[0m\n\u001b[0m\u001b[1;32m     20\u001b[0m \u001b[0;34m\u001b[0m\u001b[0m\n\u001b[1;32m     21\u001b[0m         \u001b[0;32mif\u001b[0m \u001b[0mdone\u001b[0m\u001b[0;34m:\u001b[0m\u001b[0;34m\u001b[0m\u001b[0;34m\u001b[0m\u001b[0m\n",
      "\u001b[0;32m<ipython-input-6-3d29f31ae3df>\u001b[0m in \u001b[0;36mlearn\u001b[0;34m(self)\u001b[0m\n\u001b[1;32m     55\u001b[0m         \u001b[0mself\u001b[0m\u001b[0;34m.\u001b[0m\u001b[0moptimizer\u001b[0m\u001b[0;34m.\u001b[0m\u001b[0mzero_grad\u001b[0m\u001b[0;34m(\u001b[0m\u001b[0;34m)\u001b[0m\u001b[0;34m\u001b[0m\u001b[0;34m\u001b[0m\u001b[0m\n\u001b[1;32m     56\u001b[0m         \u001b[0mloss\u001b[0m\u001b[0;34m.\u001b[0m\u001b[0mbackward\u001b[0m\u001b[0;34m(\u001b[0m\u001b[0;34m)\u001b[0m\u001b[0;34m\u001b[0m\u001b[0;34m\u001b[0m\u001b[0m\n\u001b[0;32m---> 57\u001b[0;31m         \u001b[0mself\u001b[0m\u001b[0;34m.\u001b[0m\u001b[0moptimizer\u001b[0m\u001b[0;34m.\u001b[0m\u001b[0mstep\u001b[0m\u001b[0;34m(\u001b[0m\u001b[0;34m)\u001b[0m\u001b[0;34m\u001b[0m\u001b[0;34m\u001b[0m\u001b[0m\n\u001b[0m\u001b[1;32m     58\u001b[0m \u001b[0;34m\u001b[0m\u001b[0m\n\u001b[1;32m     59\u001b[0m     \u001b[0;32mdef\u001b[0m \u001b[0msave_model\u001b[0m\u001b[0;34m(\u001b[0m\u001b[0mself\u001b[0m\u001b[0;34m,\u001b[0m \u001b[0meval_name\u001b[0m \u001b[0;34m=\u001b[0m \u001b[0;34m'eval_net'\u001b[0m\u001b[0;34m,\u001b[0m \u001b[0mtrain_name\u001b[0m \u001b[0;34m=\u001b[0m \u001b[0;34m'train_net'\u001b[0m\u001b[0;34m)\u001b[0m\u001b[0;34m:\u001b[0m\u001b[0;34m\u001b[0m\u001b[0;34m\u001b[0m\u001b[0m\n",
      "\u001b[0;32m~/miniconda3/lib/python3.7/site-packages/torch/optim/adam.py\u001b[0m in \u001b[0;36mstep\u001b[0;34m(self, closure)\u001b[0m\n\u001b[1;32m     86\u001b[0m \u001b[0;34m\u001b[0m\u001b[0m\n\u001b[1;32m     87\u001b[0m                 \u001b[0mstate\u001b[0m\u001b[0;34m[\u001b[0m\u001b[0;34m'step'\u001b[0m\u001b[0;34m]\u001b[0m \u001b[0;34m+=\u001b[0m \u001b[0;36m1\u001b[0m\u001b[0;34m\u001b[0m\u001b[0;34m\u001b[0m\u001b[0m\n\u001b[0;32m---> 88\u001b[0;31m                 \u001b[0mbias_correction1\u001b[0m \u001b[0;34m=\u001b[0m \u001b[0;36m1\u001b[0m \u001b[0;34m-\u001b[0m \u001b[0mbeta1\u001b[0m \u001b[0;34m**\u001b[0m \u001b[0mstate\u001b[0m\u001b[0;34m[\u001b[0m\u001b[0;34m'step'\u001b[0m\u001b[0;34m]\u001b[0m\u001b[0;34m\u001b[0m\u001b[0;34m\u001b[0m\u001b[0m\n\u001b[0m\u001b[1;32m     89\u001b[0m                 \u001b[0mbias_correction2\u001b[0m \u001b[0;34m=\u001b[0m \u001b[0;36m1\u001b[0m \u001b[0;34m-\u001b[0m \u001b[0mbeta2\u001b[0m \u001b[0;34m**\u001b[0m \u001b[0mstate\u001b[0m\u001b[0;34m[\u001b[0m\u001b[0;34m'step'\u001b[0m\u001b[0;34m]\u001b[0m\u001b[0;34m\u001b[0m\u001b[0;34m\u001b[0m\u001b[0m\n\u001b[1;32m     90\u001b[0m \u001b[0;34m\u001b[0m\u001b[0m\n",
      "\u001b[0;31mKeyboardInterrupt\u001b[0m: "
     ]
    }
   ],
   "source": [
    "start = time.time()\n",
    "dqn = DQN()\n",
    "# dqn.load_model()\n",
    "print(\"Start\")\n",
    "print('\\nCollecting experience...')\n",
    "history = []\n",
    "for i_episode in range(N_EPS):\n",
    "    s = env.reset()\n",
    "    ep_r = 0\n",
    "    n = 0\n",
    "    while True:\n",
    "        a = dqn.choose_action(s)\n",
    "        s_, r, done, info = env.step(a)\n",
    "        dqn.store_transition(s, a, r, s_)\n",
    "        ep_r += r\n",
    "        n += 1\n",
    "        \n",
    "        if dqn.memory_counter > MEMORY_CAPACITY:\n",
    "            dqn.learn()\n",
    "        \n",
    "        if done:\n",
    "            history.append(ep_r)\n",
    "            if (dqn.memory_counter > MEMORY_CAPACITY) and i_episode%100==0:\n",
    "                print('Ep: ', i_episode, '| Ep_r: ', ep_r, f'Ran for: {n} timesteps')\n",
    "            break\n",
    "\n",
    "        s = s_\n",
    "end = time.time()"
   ]
  },
  {
   "cell_type": "code",
   "execution_count": 9,
   "metadata": {},
   "outputs": [
    {
     "data": {
      "image/png": "[encoded data removed]",
      "text/plain": [
       "<Figure size 432x288 with 1 Axes>"
      ]
     },
     "metadata": {
      "needs_background": "light"
     },
     "output_type": "display_data"
    }
   ],
   "source": [
    "import matplotlib.pyplot as plt\n",
    "plt.plot(history)\n",
    "plt.show()"
   ]
  },
  {
   "cell_type": "markdown",
   "metadata": {},
   "source": [
    "# Debugging"
   ]
  },
  {
   "cell_type": "code",
   "execution_count": 10,
   "metadata": {},
   "outputs": [
    {
     "name": "stdout",
     "output_type": "stream",
     "text": [
      "torch.Size([32, 1])\n",
      "torch.Size([32, 1])\n"
     ]
    }
   ],
   "source": [
    "# Debugggging\n",
    "print(dqn.q_eval.shape)\n",
    "print(dqn.q_target.shape)"
   ]
  },
  {
   "cell_type": "code",
   "execution_count": 45,
   "metadata": {},
   "outputs": [
    {
     "name": "stdout",
     "output_type": "stream",
     "text": [
      "[16 10  5 11 37  4 27 10  4 24 25  9 13 12 11  9  3 14  1 11]\n",
      "[6.3601874e-07 9.9999714e-01 2.4106434e-18 1.8824504e-09 3.6120420e-13\n",
      " 6.6807559e-07 3.4715588e-14 1.7160677e-24 2.1901628e-20 1.5744466e-06]\n",
      "[2.8230116e-07 9.9999571e-01 4.7418137e-21 1.3425938e-10 3.7365581e-14\n",
      " 5.7990906e-08 7.1194136e-15 8.3156466e-26 1.4380783e-22 4.0148216e-06]\n",
      "1\n",
      "1\n"
     ]
    }
   ],
   "source": [
    "# s = env.reset()\n",
    "a = 2\n",
    "s, r, done, info = env.step(a)\n",
    "print(s)\n",
    "state = torch.Tensor(s).cuda()\n",
    "out1 = dqn.target_net(state).cpu().detach().numpy()\n",
    "out2 = dqn.eval_net(state).cpu().detach().numpy()\n",
    "print(out1)\n",
    "print(out2)\n",
    "\n",
    "print(out1.argmax())\n",
    "print(out2.argmax())"
   ]
  },
  {
   "cell_type": "code",
   "execution_count": 12,
   "metadata": {},
   "outputs": [
    {
     "name": "stdout",
     "output_type": "stream",
     "text": [
      "tensor([0.0211, 0.0544, 0.0049, 0.1220, 0.2174, 0.3838, 0.0077, 0.1805, 0.0014,\n",
      "        0.0068], device='cuda:0', grad_fn=<SoftmaxBackward>)\n"
     ]
    }
   ],
   "source": [
    "net = Net().cuda()\n",
    "out = net(state)\n",
    "print(out)"
   ]
  },
  {
   "cell_type": "code",
   "execution_count": 13,
   "metadata": {},
   "outputs": [
    {
     "data": {
      "text/plain": [
       "torch.return_types.max(\n",
       "values=tensor(0.3838, device='cuda:0', grad_fn=<MaxBackward0>),\n",
       "indices=tensor(5, device='cuda:0'))"
      ]
     },
     "execution_count": 13,
     "metadata": {},
     "output_type": "execute_result"
    }
   ],
   "source": [
    "out.max(dim=0)"
   ]
  },
  {
   "cell_type": "code",
   "execution_count": null,
   "metadata": {},
   "outputs": [],
   "source": []
  }
 ],
 "metadata": {
  "kernelspec": {
   "display_name": "Python 3",
   "language": "python",
   "name": "python3"
  },
  "language_info": {
   "codemirror_mode": {
    "name": "ipython",
    "version": 3
   },
   "file_extension": ".py",
   "mimetype": "text/x-python",
   "name": "python",
   "nbconvert_exporter": "python",
   "pygments_lexer": "ipython3",
   "version": "3.7.3"
  }
 },
 "nbformat": 4,
 "nbformat_minor": 2
}
