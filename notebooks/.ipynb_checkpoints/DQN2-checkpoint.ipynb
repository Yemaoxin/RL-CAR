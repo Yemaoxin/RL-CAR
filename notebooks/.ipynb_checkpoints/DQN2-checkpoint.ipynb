{
 "cells": [
  {
   "cell_type": "markdown",
   "metadata": {},
   "source": [
    "# Imports"
   ]
  },
  {
   "cell_type": "code",
   "execution_count": 1,
   "metadata": {},
   "outputs": [
    {
     "name": "stdout",
     "output_type": "stream",
     "text": [
      "Using device: cuda\n"
     ]
    }
   ],
   "source": [
    "import torch\n",
    "import torch.nn as nn\n",
    "import torch.nn.functional as F\n",
    "import numpy as np\n",
    "import gym\n",
    "import time\n",
    "from e2 import CacheEnv\n",
    "\n",
    "import random\n",
    "import matplotlib.pyplot as plt\n",
    "import matplotlib\n",
    "from collections import namedtuple\n",
    "from itertools import count\n",
    "from PIL import Image\n",
    "\n",
    "import torch.optim as optim\n",
    "import math\n",
    "import torchvision.transforms as T\n",
    "\n",
    "device = torch.device(\"cuda\" if torch.cuda.is_available() else \"cpu\")\n",
    "print(f\"Using device: {device}\")\n",
    "\n",
    "is_ipython = 'inline' in matplotlib.get_backend()\n",
    "if is_ipython:\n",
    "    from IPython import display\n",
    "plt.ion()    "
   ]
  },
  {
   "cell_type": "code",
   "execution_count": 2,
   "metadata": {},
   "outputs": [],
   "source": [
    "Transition = namedtuple('Transition',\n",
    "                        ('state', 'action', 'next_state', 'reward'))\n",
    "\n",
    "\n",
    "class ReplayMemory(object):\n",
    "\n",
    "    def __init__(self, capacity):\n",
    "        self.capacity = capacity\n",
    "        self.memory = []\n",
    "        self.position = 0\n",
    "\n",
    "    def push(self, *args):\n",
    "        \"\"\"Saves a transition.\"\"\"\n",
    "        if len(self.memory) < self.capacity:\n",
    "            self.memory.append(None)\n",
    "        self.memory[self.position] = Transition(*args)\n",
    "        self.position = (self.position + 1) % self.capacity\n",
    "\n",
    "    def sample(self, batch_size):\n",
    "        return random.sample(self.memory, batch_size)\n",
    "\n",
    "    def __len__(self):\n",
    "        return len(self.memory)"
   ]
  },
  {
   "cell_type": "code",
   "execution_count": 3,
   "metadata": {},
   "outputs": [],
   "source": [
    "class Net(nn.Module):\n",
    "    def __init__(self, ):\n",
    "        super(Net, self).__init__()\n",
    "        input_size = N_STATES\n",
    "        h_dim = 50\n",
    "#         h_dim = 30\n",
    "        self.fc1 = nn.Linear(input_size, h_dim)\n",
    "        self.fc2 = nn.Linear(h_dim, h_dim//4)\n",
    "        self.fc3 = nn.Linear(h_dim//4, h_dim)\n",
    "        self.out = nn.Linear(h_dim, n_actions)\n",
    "\n",
    "    def forward(self, x):\n",
    "#         bs = x.shape[0]\n",
    "        if len(x.shape) == 1:\n",
    "            x = x.view(-1, x.size(0))\n",
    "        x = F.relu(self.fc1(x))\n",
    "        x = F.relu(self.fc2(x))\n",
    "        x = F.relu(self.fc3(x))\n",
    "        x = self.out(x)\n",
    "        return x"
   ]
  },
  {
   "cell_type": "code",
   "execution_count": 4,
   "metadata": {},
   "outputs": [
    {
     "name": "stdout",
     "output_type": "stream",
     "text": [
      "<os_sim.OS object at 0x7f03136c7e48>\n",
      "Cache limit: 5\n",
      "Total Pages: 10\n"
     ]
    }
   ],
   "source": [
    "BATCH_SIZE = 128\n",
    "GAMMA = 0.999\n",
    "EPS_START = 0.9\n",
    "EPS_END = 0.05\n",
    "EPS_DECAY = 200\n",
    "# TARGET_UPDATE = 10\n",
    "TARGET_UPDATE = 200\n",
    "\n",
    "# EPS_LEN = 100\n",
    "EPS_LEN = 200\n",
    "N_PAGES = 10\n",
    "CACHE_LIMIT = 5 \n",
    "STATE_SHAPE = (CACHE_LIMIT, 2)\n",
    "N_STATES = STATE_SHAPE[0]*STATE_SHAPE[1]\n",
    "\n",
    "env = CacheEnv(\n",
    "        eps_len=EPS_LEN, \n",
    "        n_pages=N_PAGES, \n",
    "        limit=CACHE_LIMIT\n",
    "        )\n",
    "\n",
    "\n",
    "# Get number of actions from gym action space\n",
    "n_actions = env.action_space_n\n",
    "\n",
    "policy_net =  Net().to(device)\n",
    "target_net = Net().to(device)\n",
    "target_net.load_state_dict(policy_net.state_dict())\n",
    "target_net.eval()\n",
    "\n",
    "# optimizer = optim.RMSprop(policy_net.parameters())\n",
    "optimizer = optim.Adam(policy_net.parameters(), 3e-3)\n",
    "memory = ReplayMemory(10000)\n",
    "\n",
    "\n",
    "steps_done = 0\n",
    "\n",
    "\n",
    "def select_action(state):\n",
    "#     state = torch.Tensor(state).to(device)\n",
    "    global steps_done\n",
    "    sample = random.random()\n",
    "    eps_threshold = EPS_END + (EPS_START - EPS_END) * \\\n",
    "        math.exp(-1. * steps_done / EPS_DECAY)\n",
    "    steps_done += 1\n",
    "    if sample > eps_threshold:\n",
    "        with torch.no_grad():\n",
    "            # t.max(1) will return largest column value of each row.\n",
    "            # second column on max result is index of where max element was\n",
    "            # found, so we pick action with the larger expected reward.\n",
    "#             out = policy_net(state)\n",
    "#             print(out)\n",
    "#             print(out.shape)\n",
    "#             return out.max()[1].view(1, 1)\n",
    "            return policy_net(state).max(1)[1].view(1, 1)\n",
    "    else:\n",
    "        return torch.tensor([[random.randrange(n_actions)]], device=device, dtype=torch.long)\n",
    "\n",
    "\n",
    "episode_durations = []\n",
    "\n",
    "\n",
    "def plot_durations():\n",
    "    plt.figure(2)\n",
    "    plt.clf()\n",
    "    durations_t = torch.tensor(episode_durations, dtype=torch.float)\n",
    "    plt.title('Training...')\n",
    "    plt.xlabel('Episode')\n",
    "    plt.ylabel('Duration')\n",
    "    plt.plot(durations_t.numpy())\n",
    "    # Take 100 episode averages and plot them too\n",
    "    if len(durations_t) >= 100:\n",
    "        means = durations_t.unfold(0, 100, 1).mean(1).view(-1)\n",
    "        means = torch.cat((torch.zeros(99), means))\n",
    "        plt.plot(means.numpy())\n",
    "\n",
    "    plt.pause(0.001)  # pause a bit so that plots are updated\n",
    "    if is_ipython:\n",
    "        display.clear_output(wait=True)\n",
    "        display.display(plt.gcf())"
   ]
  },
  {
   "cell_type": "code",
   "execution_count": 5,
   "metadata": {},
   "outputs": [],
   "source": [
    "batch = None\n",
    "def optimize_model():\n",
    "    global batch\n",
    "    if len(memory) < BATCH_SIZE:\n",
    "        return\n",
    "    transitions = memory.sample(BATCH_SIZE)\n",
    "    # Transpose the batch (see https://stackoverflow.com/a/19343/3343043 for\n",
    "    # detailed explanation). This converts batch-array of Transitions\n",
    "    # to Transition of batch-arrays.\n",
    "    batch = Transition(*zip(*transitions))\n",
    "\n",
    "    # Compute a mask of non-final states and concatenate the batch elements\n",
    "    # (a final state would've been the one after which simulation ended)\n",
    "    non_final_mask = torch.tensor(tuple(map(lambda s: s is not None,\n",
    "                                          batch.next_state)), device=device, dtype=torch.bool)\n",
    "    non_final_next_states = torch.cat([s for s in batch.next_state\n",
    "                                                if s is not None]).view(-1, CACHE_LIMIT*2)\n",
    "#     state_batch = torch.cat(batch.state)\n",
    "    state_batch = torch.cat(batch.state).view(-1, CACHE_LIMIT*2)\n",
    "    action_batch = torch.cat(batch.action)\n",
    "    reward_batch = torch.cat(batch.reward)\n",
    "\n",
    "    # Compute Q(s_t, a) - the model computes Q(s_t), then we select the\n",
    "    # columns of actions taken. These are the actions which would've been taken\n",
    "    # for each batch state according to policy_net\n",
    "    state_action_values = policy_net(state_batch).gather(1, action_batch)\n",
    "\n",
    "    # Compute V(s_{t+1}) for all next states.\n",
    "    # Expected values of actions for non_final_next_states are computed based\n",
    "    # on the \"older\" target_net; selecting their best reward with max(1)[0].\n",
    "    # This is merged based on the mask, such that we'll have either the expected\n",
    "    # state value or 0 in case the state was final.\n",
    "    next_state_values = torch.zeros(BATCH_SIZE, device=device)\n",
    "    next_state_values[non_final_mask] = target_net(non_final_next_states).max(1)[0].detach()\n",
    "    # Compute the expected Q values\n",
    "    expected_state_action_values = (next_state_values * GAMMA) + reward_batch\n",
    "\n",
    "    # Compute Huber loss\n",
    "    loss = F.smooth_l1_loss(state_action_values, expected_state_action_values.unsqueeze(1))\n",
    "\n",
    "    # Optimize the model\n",
    "    optimizer.zero_grad()\n",
    "    loss.backward()\n",
    "    for param in policy_net.parameters():\n",
    "        param.grad.data.clamp_(-1, 1)\n",
    "    optimizer.step()"
   ]
  },
  {
   "cell_type": "code",
   "execution_count": 11,
   "metadata": {
    "scrolled": true
   },
   "outputs": [
    {
     "name": "stdout",
     "output_type": "stream",
     "text": [
      "Ep: 0 | Reward: 192 | Most common action: 0 | Top freq: [80 43 40 36  1]\n",
      "Ep: 50 | Reward: 380 | Most common action: 2 | Top freq: [75 58 46 16  5]\n",
      "Ep: 100 | Reward: 372 | Most common action: 2 | Top freq: [157  19  16   6   2]\n",
      "Ep: 150 | Reward: 285 | Most common action: 2 | Top freq: [77 48 36 35  4]\n",
      "Ep: 200 | Reward: 358 | Most common action: 0 | Top freq: [103  59  15  15   8]\n",
      "Ep: 250 | Reward: 372 | Most common action: 0 | Top freq: [119  37  22  19   3]\n",
      "Ep: 300 | Reward: 295 | Most common action: 2 | Top freq: [90 40 37 21 12]\n",
      "Ep: 350 | Reward: 359 | Most common action: 2 | Top freq: [84 76 16 15  9]\n",
      "Ep: 400 | Reward: 335 | Most common action: 2 | Top freq: [74 50 42 22 12]\n",
      "Ep: 450 | Reward: 305 | Most common action: 2 | Top freq: [125  37  26  11   1]\n",
      "Ep: 500 | Reward: 336 | Most common action: 2 | Top freq: [95 74 16 10  5]\n",
      "Ep: 550 | Reward: 331 | Most common action: 2 | Top freq: [57 44 44 33 22]\n",
      "Ep: 600 | Reward: 302 | Most common action: 2 | Top freq: [121  44  13  12  10]\n",
      "Ep: 650 | Reward: 300 | Most common action: 0 | Top freq: [68 68 27 21 16]\n",
      "Ep: 700 | Reward: 340 | Most common action: 2 | Top freq: [98 37 22 22 21]\n",
      "Ep: 750 | Reward: 436 | Most common action: 2 | Top freq: [73 43 41 34  9]\n",
      "Ep: 800 | Reward: 341 | Most common action: 1 | Top freq: [80 74 19 18  9]\n",
      "Ep: 850 | Reward: 390 | Most common action: 2 | Top freq: [66 58 40 26 10]\n",
      "Ep: 900 | Reward: 287 | Most common action: 0 | Top freq: [70 63 33 17 17]\n",
      "Ep: 950 | Reward: 371 | Most common action: 0 | Top freq: [91 58 28 21  2]\n",
      "Ep: 1000 | Reward: 333 | Most common action: 2 | Top freq: [85 41 38 32  4]\n",
      "Ep: 1050 | Reward: 368 | Most common action: 2 | Top freq: [85 68 19 15 13]\n",
      "Ep: 1100 | Reward: 339 | Most common action: 2 | Top freq: [67 45 43 38  7]\n",
      "Ep: 1150 | Reward: 362 | Most common action: 0 | Top freq: [110  28  27  26   9]\n",
      "Ep: 1200 | Reward: 348 | Most common action: 0 | Top freq: [64 64 35 19 18]\n",
      "Ep: 1250 | Reward: 414 | Most common action: 1 | Top freq: [52 49 48 31 20]\n",
      "Ep: 1300 | Reward: 324 | Most common action: 0 | Top freq: [71 56 39 18 16]\n",
      "Ep: 1350 | Reward: 393 | Most common action: 0 | Top freq: [50 41 40 40 29]\n",
      "Ep: 1400 | Reward: 390 | Most common action: 2 | Top freq: [76 61 28 24 11]\n",
      "Ep: 1450 | Reward: 438 | Most common action: 2 | Top freq: [79 66 32 18  5]\n",
      "Ep: 1500 | Reward: 439 | Most common action: 1 | Top freq: [71 42 41 35 11]\n",
      "Ep: 1550 | Reward: 281 | Most common action: 4 | Top freq: [59 55 33 27 26]\n",
      "Ep: 1600 | Reward: 492 | Most common action: 4 | Top freq: [109  40  28  13  10]\n",
      "Ep: 1650 | Reward: 315 | Most common action: 0 | Top freq: [91 38 27 25 19]\n",
      "Ep: 1700 | Reward: 324 | Most common action: 0 | Top freq: [71 69 48  6  6]\n",
      "Ep: 1750 | Reward: 379 | Most common action: 2 | Top freq: [115  36  28  17   4]\n",
      "Ep: 1800 | Reward: 429 | Most common action: 2 | Top freq: [94 38 29 25 14]\n",
      "Ep: 1850 | Reward: 388 | Most common action: 2 | Top freq: [74 65 23 21 17]\n",
      "Ep: 1900 | Reward: 313 | Most common action: 2 | Top freq: [113  32  29  14  12]\n",
      "Ep: 1950 | Reward: 424 | Most common action: 2 | Top freq: [95 39 32 23 11]\n",
      "Ep: 2000 | Reward: 352 | Most common action: 0 | Top freq: [74 45 36 30 15]\n",
      "Ep: 2050 | Reward: 402 | Most common action: 2 | Top freq: [138  30  17  11   4]\n",
      "Ep: 2100 | Reward: 354 | Most common action: 2 | Top freq: [61 46 44 37 12]\n",
      "Ep: 2150 | Reward: 394 | Most common action: 2 | Top freq: [121  33  18  18  10]\n",
      "Ep: 2200 | Reward: 369 | Most common action: 0 | Top freq: [79 79 28 11  3]\n",
      "Ep: 2250 | Reward: 357 | Most common action: 2 | Top freq: [71 65 26 21 17]\n",
      "Ep: 2300 | Reward: 398 | Most common action: 2 | Top freq: [109  47  26   9   9]\n",
      "Ep: 2350 | Reward: 365 | Most common action: 4 | Top freq: [67 45 41 32 15]\n",
      "Ep: 2400 | Reward: 437 | Most common action: 2 | Top freq: [95 46 33 17  9]\n",
      "Ep: 2450 | Reward: 336 | Most common action: 4 | Top freq: [81 36 30 30 23]\n",
      "Ep: 2500 | Reward: 373 | Most common action: 3 | Top freq: [55 49 45 38 13]\n",
      "Ep: 2550 | Reward: 316 | Most common action: 1 | Top freq: [77 59 33 27  4]\n",
      "Ep: 2600 | Reward: 351 | Most common action: 2 | Top freq: [81 58 21 20 20]\n",
      "Ep: 2650 | Reward: 393 | Most common action: 2 | Top freq: [109  41  22  14  14]\n",
      "Ep: 2700 | Reward: 278 | Most common action: 1 | Top freq: [70 55 36 28 11]\n",
      "Ep: 2750 | Reward: 367 | Most common action: 2 | Top freq: [92 44 30 20 14]\n",
      "Ep: 2800 | Reward: 291 | Most common action: 2 | Top freq: [74 45 35 34 12]\n",
      "Ep: 2850 | Reward: 295 | Most common action: 1 | Top freq: [89 60 30 12  9]\n",
      "Ep: 2900 | Reward: 408 | Most common action: 2 | Top freq: [84 45 41 18 12]\n",
      "Ep: 2950 | Reward: 232 | Most common action: 0 | Top freq: [76 60 25 22 17]\n",
      "Ep: 3000 | Reward: 375 | Most common action: 3 | Top freq: [52 49 44 29 26]\n",
      "Ep: 3050 | Reward: 339 | Most common action: 2 | Top freq: [55 45 43 30 27]\n",
      "Ep: 3100 | Reward: 308 | Most common action: 2 | Top freq: [78 76 19 15 12]\n",
      "Ep: 3150 | Reward: 318 | Most common action: 2 | Top freq: [75 42 31 29 23]\n",
      "Ep: 3200 | Reward: 379 | Most common action: 2 | Top freq: [114  33  29  13  11]\n",
      "Ep: 3250 | Reward: 387 | Most common action: 2 | Top freq: [79 46 43 21 11]\n",
      "Ep: 3300 | Reward: 347 | Most common action: 2 | Top freq: [80 56 25 23 16]\n",
      "Ep: 3350 | Reward: 267 | Most common action: 1 | Top freq: [71 48 32 29 20]\n",
      "Ep: 3400 | Reward: 356 | Most common action: 2 | Top freq: [63 50 42 27 18]\n",
      "Ep: 3450 | Reward: 370 | Most common action: 4 | Top freq: [120  32  23  20   5]\n",
      "Ep: 3500 | Reward: 335 | Most common action: 4 | Top freq: [87 54 28 22  9]\n",
      "Ep: 3550 | Reward: 321 | Most common action: 2 | Top freq: [77 74 27 11 11]\n",
      "Ep: 3600 | Reward: 419 | Most common action: 4 | Top freq: [96 42 41 18  3]\n",
      "Ep: 3650 | Reward: 332 | Most common action: 4 | Top freq: [71 53 48 20  8]\n",
      "Ep: 3700 | Reward: 307 | Most common action: 2 | Top freq: [58 51 39 37 15]\n",
      "Ep: 3750 | Reward: 321 | Most common action: 2 | Top freq: [83 68 30 13  6]\n",
      "Ep: 3800 | Reward: 340 | Most common action: 0 | Top freq: [54 47 39 35 25]\n",
      "Ep: 3850 | Reward: 306 | Most common action: 0 | Top freq: [51 49 44 28 28]\n",
      "Ep: 3900 | Reward: 382 | Most common action: 4 | Top freq: [79 54 43 18  6]\n",
      "Ep: 3950 | Reward: 349 | Most common action: 0 | Top freq: [70 59 35 26 10]\n",
      "Ep: 4000 | Reward: 438 | Most common action: 1 | Top freq: [61 47 46 30 16]\n",
      "Ep: 4050 | Reward: 404 | Most common action: 1 | Top freq: [89 63 22 17  9]\n",
      "Ep: 4100 | Reward: 408 | Most common action: 0 | Top freq: [72 45 40 22 21]\n",
      "Ep: 4150 | Reward: 301 | Most common action: 0 | Top freq: [62 48 42 36 12]\n",
      "Ep: 4200 | Reward: 337 | Most common action: 0 | Top freq: [86 52 26 25 11]\n",
      "Ep: 4250 | Reward: 408 | Most common action: 1 | Top freq: [69 68 41 13  9]\n",
      "Ep: 4300 | Reward: 359 | Most common action: 0 | Top freq: [79 51 36 29  5]\n",
      "Ep: 4350 | Reward: 286 | Most common action: 0 | Top freq: [75 39 34 27 25]\n",
      "Ep: 4400 | Reward: 401 | Most common action: 1 | Top freq: [75 66 35 17  7]\n",
      "Ep: 4450 | Reward: 383 | Most common action: 4 | Top freq: [66 55 35 33 11]\n",
      "Ep: 4500 | Reward: 422 | Most common action: 0 | Top freq: [75 60 28 24 13]\n",
      "Ep: 4550 | Reward: 439 | Most common action: 3 | Top freq: [66 51 32 30 21]\n",
      "Ep: 4600 | Reward: 321 | Most common action: 0 | Top freq: [132  51  11   4   2]\n",
      "Ep: 4650 | Reward: 381 | Most common action: 2 | Top freq: [84 53 42 12  9]\n",
      "Ep: 4700 | Reward: 383 | Most common action: 1 | Top freq: [88 64 23 16  9]\n",
      "Ep: 4750 | Reward: 382 | Most common action: 0 | Top freq: [118  26  23  22  11]\n",
      "Ep: 4800 | Reward: 373 | Most common action: 3 | Top freq: [93 49 42 11  5]\n",
      "Ep: 4850 | Reward: 420 | Most common action: 3 | Top freq: [102  48  30  19   1]\n"
     ]
    },
    {
     "ename": "KeyboardInterrupt",
     "evalue": "",
     "output_type": "error",
     "traceback": [
      "\u001b[0;31m------------------------------------------------------\u001b[0m",
      "\u001b[0;31mKeyboardInterrupt\u001b[0m    Traceback (most recent call last)",
      "\u001b[0;32m<ipython-input-11-543d9b7f661d>\u001b[0m in \u001b[0;36m<module>\u001b[0;34m\u001b[0m\n\u001b[1;32m     32\u001b[0m \u001b[0;34m\u001b[0m\u001b[0m\n\u001b[1;32m     33\u001b[0m         \u001b[0;31m# Perform one step of the optimization (on the target network)\u001b[0m\u001b[0;34m\u001b[0m\u001b[0;34m\u001b[0m\u001b[0;34m\u001b[0m\u001b[0m\n\u001b[0;32m---> 34\u001b[0;31m         \u001b[0moptimize_model\u001b[0m\u001b[0;34m(\u001b[0m\u001b[0;34m)\u001b[0m\u001b[0;34m\u001b[0m\u001b[0;34m\u001b[0m\u001b[0m\n\u001b[0m\u001b[1;32m     35\u001b[0m         \u001b[0;32mif\u001b[0m \u001b[0mdone\u001b[0m\u001b[0;34m:\u001b[0m\u001b[0;34m\u001b[0m\u001b[0;34m\u001b[0m\u001b[0m\n\u001b[1;32m     36\u001b[0m             \u001b[0mepisode_durations\u001b[0m\u001b[0;34m.\u001b[0m\u001b[0mappend\u001b[0m\u001b[0;34m(\u001b[0m\u001b[0mt\u001b[0m \u001b[0;34m+\u001b[0m \u001b[0;36m1\u001b[0m\u001b[0;34m)\u001b[0m\u001b[0;34m\u001b[0m\u001b[0;34m\u001b[0m\u001b[0m\n",
      "\u001b[0;32m<ipython-input-5-7b66ed7bd548>\u001b[0m in \u001b[0;36moptimize_model\u001b[0;34m()\u001b[0m\n\u001b[1;32m     44\u001b[0m     \u001b[0;32mfor\u001b[0m \u001b[0mparam\u001b[0m \u001b[0;32min\u001b[0m \u001b[0mpolicy_net\u001b[0m\u001b[0;34m.\u001b[0m\u001b[0mparameters\u001b[0m\u001b[0;34m(\u001b[0m\u001b[0;34m)\u001b[0m\u001b[0;34m:\u001b[0m\u001b[0;34m\u001b[0m\u001b[0;34m\u001b[0m\u001b[0m\n\u001b[1;32m     45\u001b[0m         \u001b[0mparam\u001b[0m\u001b[0;34m.\u001b[0m\u001b[0mgrad\u001b[0m\u001b[0;34m.\u001b[0m\u001b[0mdata\u001b[0m\u001b[0;34m.\u001b[0m\u001b[0mclamp_\u001b[0m\u001b[0;34m(\u001b[0m\u001b[0;34m-\u001b[0m\u001b[0;36m1\u001b[0m\u001b[0;34m,\u001b[0m \u001b[0;36m1\u001b[0m\u001b[0;34m)\u001b[0m\u001b[0;34m\u001b[0m\u001b[0;34m\u001b[0m\u001b[0m\n\u001b[0;32m---> 46\u001b[0;31m     \u001b[0moptimizer\u001b[0m\u001b[0;34m.\u001b[0m\u001b[0mstep\u001b[0m\u001b[0;34m(\u001b[0m\u001b[0;34m)\u001b[0m\u001b[0;34m\u001b[0m\u001b[0;34m\u001b[0m\u001b[0m\n\u001b[0m",
      "\u001b[0;32m~/miniconda3/lib/python3.7/site-packages/torch/optim/adam.py\u001b[0m in \u001b[0;36mstep\u001b[0;34m(self, closure)\u001b[0m\n\u001b[1;32m    101\u001b[0m                     \u001b[0mdenom\u001b[0m \u001b[0;34m=\u001b[0m \u001b[0;34m(\u001b[0m\u001b[0mmax_exp_avg_sq\u001b[0m\u001b[0;34m.\u001b[0m\u001b[0msqrt\u001b[0m\u001b[0;34m(\u001b[0m\u001b[0;34m)\u001b[0m \u001b[0;34m/\u001b[0m \u001b[0mmath\u001b[0m\u001b[0;34m.\u001b[0m\u001b[0msqrt\u001b[0m\u001b[0;34m(\u001b[0m\u001b[0mbias_correction2\u001b[0m\u001b[0;34m)\u001b[0m\u001b[0;34m)\u001b[0m\u001b[0;34m.\u001b[0m\u001b[0madd_\u001b[0m\u001b[0;34m(\u001b[0m\u001b[0mgroup\u001b[0m\u001b[0;34m[\u001b[0m\u001b[0;34m'eps'\u001b[0m\u001b[0;34m]\u001b[0m\u001b[0;34m)\u001b[0m\u001b[0;34m\u001b[0m\u001b[0;34m\u001b[0m\u001b[0m\n\u001b[1;32m    102\u001b[0m                 \u001b[0;32melse\u001b[0m\u001b[0;34m:\u001b[0m\u001b[0;34m\u001b[0m\u001b[0;34m\u001b[0m\u001b[0m\n\u001b[0;32m--> 103\u001b[0;31m                     \u001b[0mdenom\u001b[0m \u001b[0;34m=\u001b[0m \u001b[0;34m(\u001b[0m\u001b[0mexp_avg_sq\u001b[0m\u001b[0;34m.\u001b[0m\u001b[0msqrt\u001b[0m\u001b[0;34m(\u001b[0m\u001b[0;34m)\u001b[0m \u001b[0;34m/\u001b[0m \u001b[0mmath\u001b[0m\u001b[0;34m.\u001b[0m\u001b[0msqrt\u001b[0m\u001b[0;34m(\u001b[0m\u001b[0mbias_correction2\u001b[0m\u001b[0;34m)\u001b[0m\u001b[0;34m)\u001b[0m\u001b[0;34m.\u001b[0m\u001b[0madd_\u001b[0m\u001b[0;34m(\u001b[0m\u001b[0mgroup\u001b[0m\u001b[0;34m[\u001b[0m\u001b[0;34m'eps'\u001b[0m\u001b[0;34m]\u001b[0m\u001b[0;34m)\u001b[0m\u001b[0;34m\u001b[0m\u001b[0;34m\u001b[0m\u001b[0m\n\u001b[0m\u001b[1;32m    104\u001b[0m \u001b[0;34m\u001b[0m\u001b[0m\n\u001b[1;32m    105\u001b[0m                 \u001b[0mstep_size\u001b[0m \u001b[0;34m=\u001b[0m \u001b[0mgroup\u001b[0m\u001b[0;34m[\u001b[0m\u001b[0;34m'lr'\u001b[0m\u001b[0;34m]\u001b[0m \u001b[0;34m/\u001b[0m \u001b[0mbias_correction1\u001b[0m\u001b[0;34m\u001b[0m\u001b[0;34m\u001b[0m\u001b[0m\n",
      "\u001b[0;31mKeyboardInterrupt\u001b[0m: "
     ]
    }
   ],
   "source": [
    "num_episodes = 5000\n",
    "\n",
    "history = []\n",
    "for i_episode in range(num_episodes):\n",
    "    # Initialize the environment and state\n",
    "    state = env.reset()\n",
    "    state = torch.Tensor(state).to(device)\n",
    "    ep_r = 0\n",
    "    actions = []\n",
    "    for t in count():\n",
    "        # Select and perform an action\n",
    "        action = select_action(state)\n",
    "        actions.append(action.cpu().numpy()[0])\n",
    "#         print(f\"Selection action: {action}\")\n",
    "        state_, reward, done, _ = env.step(action.item())\n",
    "        state_ = torch.Tensor(state_).to(device)\n",
    "        reward = torch.tensor([reward], device=device)\n",
    "        ep_r += reward\n",
    "\n",
    "        # Observe new state\n",
    "\n",
    "        if not done:\n",
    "            next_state = state_ \n",
    "        else:\n",
    "            next_state = None\n",
    "\n",
    "        # Store the transition in memory\n",
    "        memory.push(state, action, next_state, reward)\n",
    "\n",
    "        # Move to the next state\n",
    "        state = next_state\n",
    "\n",
    "        # Perform one step of the optimization (on the target network)\n",
    "        optimize_model()\n",
    "        if done:\n",
    "            episode_durations.append(t + 1)\n",
    "            epr = ep_r.cpu().numpy()[0]\n",
    "            history.append(epr)\n",
    "            (values,counts) = np.unique(np.array(actions), return_counts=True)\n",
    "            ind=np.argmax(counts)\n",
    "            counts.sort()\n",
    "            if i_episode%50 == 0:\n",
    "                print(f\"Ep: {i_episode} | Reward: {epr} | Most common action: {values[ind]} | Top freq: {counts[::-1][:10]}\")\n",
    "            \n",
    "#             plot_durations()\n",
    "            break\n",
    "    # Update the target network, copying all weights and biases in DQN\n",
    "    if i_episode % TARGET_UPDATE == 0:\n",
    "        target_net.load_state_dict(policy_net.state_dict())\n",
    "\n",
    "print('Complete')\n",
    "env.render()\n",
    "env.close()\n",
    "plt.ioff()\n",
    "plt.show()\n"
   ]
  },
  {
   "cell_type": "code",
   "execution_count": 15,
   "metadata": {},
   "outputs": [
    {
     "data": {
      "image/png": "[encoded data removed]",
      "text/plain": [
       "<Figure size 720x360 with 1 Axes>"
      ]
     },
     "metadata": {
      "needs_background": "light"
     },
     "output_type": "display_data"
    }
   ],
   "source": [
    "import matplotlib.pyplot as plt\n",
    "plt.figure(figsize=(10, 5))\n",
    "plt.plot(history[:1000])\n",
    "# plt.plot(history)\n",
    "plt.show()"
   ]
  },
  {
   "cell_type": "markdown",
   "metadata": {},
   "source": [
    "# Debug"
   ]
  },
  {
   "cell_type": "code",
   "execution_count": null,
   "metadata": {},
   "outputs": [],
   "source": [
    "# def pretty_print(s):\n",
    "#     for i, x in enumerate(s):\n",
    "#         if i == len(s)-1:\n",
    "#             end = '\\n'\n",
    "#         elif i%2 == 0:\n",
    "#             end = '-'\n",
    "#         else:\n",
    "#             end = ', ' \n",
    "#         print(x, end=end)"
   ]
  },
  {
   "cell_type": "code",
   "execution_count": 19,
   "metadata": {},
   "outputs": [
    {
     "data": {
      "text/plain": [
       "3"
      ]
     },
     "execution_count": 19,
     "metadata": {},
     "output_type": "execute_result"
    }
   ],
   "source": []
  },
  {
   "cell_type": "markdown",
   "metadata": {},
   "source": [
    "# Compare with others"
   ]
  },
  {
   "cell_type": "code",
   "execution_count": 21,
   "metadata": {},
   "outputs": [
    {
     "data": {
      "application/vnd.jupyter.widget-view+json": {
       "model_id": "e745add93d8946cb9e8bd390a5eb8047",
       "version_major": 2,
       "version_minor": 0
      },
      "text/plain": [
       "HBox(children=(IntProgress(value=0, max=1000), HTML(value='')))"
      ]
     },
     "metadata": {},
     "output_type": "display_data"
    },
    {
     "name": "stdout",
     "output_type": "stream",
     "text": [
      "\n"
     ]
    },
    {
     "data": {
      "application/vnd.jupyter.widget-view+json": {
       "model_id": "3232131fc98b488cba9c043243fe6b4f",
       "version_major": 2,
       "version_minor": 0
      },
      "text/plain": [
       "HBox(children=(IntProgress(value=0, max=1000), HTML(value='')))"
      ]
     },
     "metadata": {},
     "output_type": "display_data"
    },
    {
     "name": "stdout",
     "output_type": "stream",
     "text": [
      "\n"
     ]
    },
    {
     "data": {
      "application/vnd.jupyter.widget-view+json": {
       "model_id": "8da1f4ea08e540ad94984693fdaa5391",
       "version_major": 2,
       "version_minor": 0
      },
      "text/plain": [
       "HBox(children=(IntProgress(value=0, max=1000), HTML(value='')))"
      ]
     },
     "metadata": {},
     "output_type": "display_data"
    },
    {
     "name": "stdout",
     "output_type": "stream",
     "text": [
      "\n"
     ]
    },
    {
     "data": {
      "application/vnd.jupyter.widget-view+json": {
       "model_id": "4bff56054b064f0599ff85e5f2bae4da",
       "version_major": 2,
       "version_minor": 0
      },
      "text/plain": [
       "HBox(children=(IntProgress(value=0, max=1000), HTML(value='')))"
      ]
     },
     "metadata": {},
     "output_type": "display_data"
    },
    {
     "name": "stdout",
     "output_type": "stream",
     "text": [
      "\n"
     ]
    }
   ],
   "source": [
    "from tqdm import tqdm_notebook as tqdm\n",
    "\n",
    "def choose_action(s, agent):\n",
    "    if agent == 'dqn':\n",
    "        return select_action(torch.Tensor(s).to(device)) \n",
    "    if agent == 'lru':\n",
    "        return s[::2].argmin()\n",
    "    if agent == 'random':\n",
    "        return np.random.randint(n_actions)\n",
    "    else:\n",
    "        return s[1::2].argmin()\n",
    "    \n",
    "    \n",
    "ntests = 1000\n",
    "performance = {}\n",
    "\n",
    "for agent in \"dqn random lru lfu\".split():\n",
    "    for i in tqdm(range(ntests)):\n",
    "        s = env.reset()\n",
    "        nhits = 0\n",
    "        while True:\n",
    "            a = choose_action(s, agent)\n",
    "            s_, r, done, info = env.step(a)\n",
    "            nhits += r\n",
    "\n",
    "            if done:\n",
    "                history.append(nhits)\n",
    "                break\n",
    "            s = s_\n",
    "    performance[agent] = np.array(history).mean()      \n"
   ]
  },
  {
   "cell_type": "code",
   "execution_count": 22,
   "metadata": {},
   "outputs": [
    {
     "data": {
      "text/plain": [
       "{'dqn': 353.2079207920792,\n",
       " 'random': 348.7354368932039,\n",
       " 'lru': 336.1838721528288,\n",
       " 'lfu': 344.3589333781965}"
      ]
     },
     "execution_count": 22,
     "metadata": {},
     "output_type": "execute_result"
    }
   ],
   "source": [
    "performance"
   ]
  }
 ],
 "metadata": {
  "kernelspec": {
   "display_name": "Python 3",
   "language": "python",
   "name": "python3"
  },
  "language_info": {
   "codemirror_mode": {
    "name": "ipython",
    "version": 3
   },
   "file_extension": ".py",
   "mimetype": "text/x-python",
   "name": "python",
   "nbconvert_exporter": "python",
   "pygments_lexer": "ipython3",
   "version": "3.7.3"
  }
 },
 "nbformat": 4,
 "nbformat_minor": 2
}
