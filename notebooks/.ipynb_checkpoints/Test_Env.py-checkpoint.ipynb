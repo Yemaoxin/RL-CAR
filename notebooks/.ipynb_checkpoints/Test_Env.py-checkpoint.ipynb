{
 "cells": [
  {
   "cell_type": "code",
   "execution_count": 10,
   "metadata": {},
   "outputs": [],
   "source": [
    "from environment import CacheEnv"
   ]
  },
  {
   "cell_type": "code",
   "execution_count": 11,
   "metadata": {},
   "outputs": [
    {
     "data": {
      "text/plain": [
       "{0: [0, 1], 1: [0, 1], 2: [0, 1], 3: [0, 1], 4: [0, 1]}"
      ]
     },
     "execution_count": 11,
     "metadata": {},
     "output_type": "execute_result"
    }
   ],
   "source": [
    "env = CacheEnv(eps_len=10, n_pages=10, limit=5)\n",
    "s = env.reset()\n",
    "s"
   ]
  },
  {
   "cell_type": "code",
   "execution_count": null,
   "metadata": {},
   "outputs": [],
   "source": [
    "import numpy as np\n",
    "for _ in range(int(1e4)):\n",
    "#     for (N, K) in ((10, 100), (20, 100), (50, 100), (10, 10), (20, 10)):\n",
    "#     for (N, K) in [(10, 100)]:\n",
    "    for (N, K) in [(10, 20)]:\n",
    "        P = np.random.rand(N)\n",
    "        P /= P.sum()\n",
    "        P *= K\n",
    "        P = [round(p) for p in P]\n",
    "        extra = sum(P) - K\n",
    "        i = np.argmax(P)\n",
    "        P[i] -= extra\n",
    "        assert P[i] > 0\n",
    "        if sum(P) != K:\n",
    "            print(f\"Failed!\")\n",
    "#         print(P)    "
   ]
  },
  {
   "cell_type": "code",
   "execution_count": 12,
   "metadata": {
    "scrolled": false
   },
   "outputs": [
    {
     "name": "stdout",
     "output_type": "stream",
     "text": [
      "{0: [1, 1], 1: [1, 1], 2: [1, 1], 3: [0, 2], 4: [1, 1]}\n",
      "This was a hit, OS asked for: 3\n",
      "Reward: 1\n",
      "Done: False\n",
      "{0: [2, 1], 2: [2, 1], 3: [1, 2], 4: [2, 1], 7: [0, 1]}\n",
      "This was not a hit, OS asked for: 7\n",
      "Reward: -1\n",
      "Done: False\n",
      "{0: [3, 1], 2: [3, 1], 3: [2, 2], 4: [3, 1], 7: [1, 1]}\n",
      "This was not a hit, OS asked for: 9\n",
      "Reward: -10\n",
      "Done: False\n",
      "{0: [4, 1], 2: [4, 1], 3: [3, 2], 4: [4, 1], 7: [2, 1]}\n",
      "This was not a hit, OS asked for: 8\n",
      "Reward: -10\n",
      "Done: False\n",
      "{0: [5, 1], 2: [5, 1], 3: [4, 2], 4: [5, 1], 7: [3, 1]}\n",
      "This was not a hit, OS asked for: 1\n",
      "Reward: -10\n",
      "Done: False\n",
      "{0: [6, 1], 2: [6, 1], 3: [5, 2], 4: [5, 1], 7: [4, 1]}\n",
      "This was not a hit, OS asked for: 4\n",
      "Reward: -10\n",
      "Done: False\n",
      "{0: [7, 1], 2: [7, 1], 3: [6, 2], 4: [6, 1], 7: [5, 1]}\n",
      "This was not a hit, OS asked for: 1\n",
      "Reward: -10\n",
      "Done: False\n",
      "{0: [8, 1], 2: [8, 1], 3: [6, 2], 4: [7, 1], 7: [6, 1]}\n",
      "This was not a hit, OS asked for: 3\n",
      "Reward: -10\n",
      "Done: False\n",
      "{0: [9, 1], 2: [9, 1], 3: [7, 2], 4: [8, 1], 7: [7, 1]}\n",
      "This was not a hit, OS asked for: 6\n",
      "Reward: -10\n",
      "Done: False\n",
      "{0: [10, 1], 2: [10, 1], 3: [8, 2], 4: [8, 1], 7: [8, 1]}\n",
      "This was not a hit, OS asked for: 4\n",
      "Reward: -10\n",
      "Done: True\n"
     ]
    }
   ],
   "source": [
    "for x in range(19):\n",
    "    s, r, done, observation = env.step(1)\n",
    "    print(s)\n",
    "    print(observation)\n",
    "    print(f\"Reward: {r}\")\n",
    "    print(f\"Done: {done}\")\n",
    "    if done:\n",
    "        break"
   ]
  },
  {
   "cell_type": "code",
   "execution_count": null,
   "metadata": {},
   "outputs": [],
   "source": []
  }
 ],
 "metadata": {
  "kernelspec": {
   "display_name": "Python 3",
   "language": "python",
   "name": "python3"
  },
  "language_info": {
   "codemirror_mode": {
    "name": "ipython",
    "version": 3
   },
   "file_extension": ".py",
   "mimetype": "text/x-python",
   "name": "python",
   "nbconvert_exporter": "python",
   "pygments_lexer": "ipython3",
   "version": "3.7.3"
  }
 },
 "nbformat": 4,
 "nbformat_minor": 2
}
