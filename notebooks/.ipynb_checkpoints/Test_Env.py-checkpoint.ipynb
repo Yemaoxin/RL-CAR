{
 "cells": [
  {
   "cell_type": "code",
   "execution_count": 1,
   "metadata": {},
   "outputs": [],
   "source": [
    "# from environment import CacheEnv\n",
    "from e2 import CacheEnv"
   ]
  },
  {
   "cell_type": "code",
   "execution_count": null,
   "metadata": {},
   "outputs": [],
   "source": [
    "env = CacheEnv(eps_len=100, n_pages=10, limit=5, verbose=True)\n",
    "env.toggle_human()\n",
    "s = env.reset()\n",
    "print(f\"Requested page: {env.new_page_id}\")\n",
    "s"
   ]
  },
  {
   "cell_type": "code",
   "execution_count": null,
   "metadata": {},
   "outputs": [],
   "source": [
    "print(env.step(1))\n",
    "print(f\"Requested page: {env.new_page_id}\")"
   ]
  },
  {
   "cell_type": "code",
   "execution_count": null,
   "metadata": {
    "scrolled": false
   },
   "outputs": [],
   "source": [
    "for x in range(3):\n",
    "    s, r, done, observation = env.step(1)\n",
    "    print(s)\n",
    "    print(observation)\n",
    "    print(f\"Reward: {r}\")\n",
    "    print(f\"Done: {done}\")\n",
    "    if done:\n",
    "        break"
   ]
  },
  {
   "cell_type": "code",
   "execution_count": 4,
   "metadata": {},
   "outputs": [
    {
     "name": "stdout",
     "output_type": "stream",
     "text": [
      "<os_sim.OS object at 0x7f4a63ae8a20>\n",
      "Cache limit: 5\n",
      "Total Pages: 10\n"
     ]
    },
    {
     "data": {
      "text/plain": [
       "{4: [1, 1], 1: [1, 1], 6: [1, 1], 5: [1, 1], 0: [1, 1]}"
      ]
     },
     "execution_count": 4,
     "metadata": {},
     "output_type": "execute_result"
    }
   ],
   "source": [
    "env = CacheEnv(eps_len=100, n_pages=10, limit=5, verbose=False)\n",
    "env.toggle_human()\n",
    "s = env.reset()\n",
    "s"
   ]
  },
  {
   "cell_type": "code",
   "execution_count": 5,
   "metadata": {
    "scrolled": false
   },
   "outputs": [
    {
     "name": "stdout",
     "output_type": "stream",
     "text": [
      "({4: [2, 1], 2: [1, 1], 6: [2, 1], 5: [2, 1], 0: [2, 1]}, 0, False, 'There were 0 hits.')\n",
      "\n",
      "\n",
      "({4: [4, 1], 9: [2, 1], 6: [4, 1], 5: [1, 2], 0: [4, 1]}, 1, False, 'There were 1 hits.')\n",
      "\n",
      "\n",
      "({4: [5, 1], 2: [1, 2], 6: [5, 1], 5: [2, 2], 0: [5, 1]}, 0, False, 'There were 0 hits.')\n",
      "\n",
      "\n",
      "({4: [1, 2], 9: [2, 2], 6: [7, 1], 5: [4, 2], 0: [7, 1]}, 1, False, 'There were 1 hits.')\n",
      "\n",
      "\n",
      "({4: [2, 2], 1: [1, 2], 6: [8, 1], 5: [5, 2], 0: [8, 1]}, 0, False, 'There were 0 hits.')\n",
      "\n",
      "\n",
      "({4: [6, 2], 9: [1, 6], 6: [12, 1], 5: [9, 2], 0: [12, 1]}, 3, False, 'There were 3 hits.')\n",
      "\n",
      "\n",
      "({4: [7, 2], 2: [1, 3], 6: [13, 1], 5: [10, 2], 0: [13, 1]}, 0, False, 'There were 0 hits.')\n",
      "\n",
      "\n",
      "({4: [9, 2], 1: [2, 3], 6: [1, 2], 5: [12, 2], 0: [15, 1]}, 1, False, 'There were 1 hits.')\n",
      "\n",
      "\n",
      "({4: [10, 2], 7: [1, 1], 6: [2, 2], 5: [13, 2], 0: [16, 1]}, 0, False, 'There were 0 hits.')\n",
      "\n",
      "\n",
      "({4: [11, 2], 9: [1, 7], 6: [3, 2], 5: [14, 2], 0: [17, 1]}, 0, False, 'There were 0 hits.')\n",
      "\n",
      "\n"
     ]
    }
   ],
   "source": [
    "for _ in range(10):\n",
    "    print(env.step(1))\n",
    "    print(\"\\n\")"
   ]
  },
  {
   "cell_type": "code",
   "execution_count": null,
   "metadata": {},
   "outputs": [],
   "source": []
  }
 ],
 "metadata": {
  "kernelspec": {
   "display_name": "Python 3",
   "language": "python",
   "name": "python3"
  },
  "language_info": {
   "codemirror_mode": {
    "name": "ipython",
    "version": 3
   },
   "file_extension": ".py",
   "mimetype": "text/x-python",
   "name": "python",
   "nbconvert_exporter": "python",
   "pygments_lexer": "ipython3",
   "version": "3.7.3"
  }
 },
 "nbformat": 4,
 "nbformat_minor": 2
}
