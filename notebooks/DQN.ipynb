{
 "cells": [
  {
   "cell_type": "markdown",
   "metadata": {},
   "source": [
    "# Imports"
   ]
  },
  {
   "cell_type": "code",
   "execution_count": 1,
   "metadata": {},
   "outputs": [],
   "source": [
    "import torch\n",
    "import torch.nn as nn\n",
    "import torch.nn.functional as F\n",
    "import numpy as np\n",
    "import gym\n",
    "import time\n",
    "from environment import CacheEnv\n",
    "# from environment import scheduler\n",
    "%load_ext autoreload\n",
    "%autoreload 2"
   ]
  },
  {
   "cell_type": "code",
   "execution_count": 2,
   "metadata": {},
   "outputs": [],
   "source": [
    "# env vars\n",
    "EPS_LEN = 100\n",
    "N_PAGES = 10\n",
    "CACHE_LIMIT = 5 \n",
    "env = CacheEnv(\n",
    "        eps_len=EPS_LEN, \n",
    "        n_pages=N_PAGES, \n",
    "        limit=CACHE_LIMIT\n",
    "        )\n",
    "\n",
    "# dqn vars\n",
    "N_EPS = 60000\n",
    "BATCH_SIZE = 32\n",
    "LR = 0.01                   # learning rate\n",
    "EPSILON = 0.9               # greedy policy\n",
    "GAMMA = 0.9                 # reward discount\n",
    "TARGET_REPLACE_ITER = 100   # target update frequency\n",
    "MEMORY_CAPACITY = 20000\n",
    "\n",
    "s = env.reset()\n",
    "N_ACTIONS = env.action_space_n\n",
    "STATE_SHAPE = (CACHE_LIMIT, 2)\n",
    "N_STATES = STATE_SHAPE[0]*STATE_SHAPE[1]"
   ]
  },
  {
   "cell_type": "code",
   "execution_count": 3,
   "metadata": {},
   "outputs": [
    {
     "data": {
      "text/plain": [
       "5"
      ]
     },
     "execution_count": 3,
     "metadata": {},
     "output_type": "execute_result"
    }
   ],
   "source": [
    "N_ACTIONS"
   ]
  },
  {
   "cell_type": "code",
   "execution_count": 4,
   "metadata": {},
   "outputs": [],
   "source": [
    "class Net(nn.Module):\n",
    "    def __init__(self, ):\n",
    "        super(Net, self).__init__()\n",
    "        input_size = N_STATES\n",
    "        self.fc1 = nn.Linear(input_size, 100)\n",
    "        self.fc2 = nn.Linear(100, 10)\n",
    "#         self.fc3 = nn.Linear(10, 100)\n",
    "        self.out = nn.Linear(10, N_ACTIONS)\n",
    "\n",
    "    def forward(self, x):\n",
    "#         bs = x.shape[0]\n",
    "        x = F.relu(self.fc1(x))\n",
    "        x = F.relu(self.fc2(x))\n",
    "#         x = F.relu(self.fc3(x))\n",
    "        x = self.out(x)\n",
    "        return F.softmax(x)"
   ]
  },
  {
   "cell_type": "code",
   "execution_count": 5,
   "metadata": {},
   "outputs": [],
   "source": [
    "class DQN(object):\n",
    "    def __init__(self):\n",
    "        self.eval_net, self.target_net = Net().cuda(), Net().cuda()\n",
    "        self.learn_step_counter = 0                                     # for target updating\n",
    "        self.memory_counter = 0                                         # for storing memory\n",
    "        self.memory = np.zeros((MEMORY_CAPACITY, N_STATES * 2 + 2))     # initialize memory\n",
    "        self.optimizer = torch.optim.Adam(self.eval_net.parameters(), lr=LR)\n",
    "        self.loss_func = nn.MSELoss()\n",
    "        self.PATH = 'model/'\n",
    "\n",
    "    def choose_action(self, x):\n",
    "#         print(f\"X for choose action: {x}\")\n",
    "        x = torch.unsqueeze(torch.FloatTensor(x), 0).cuda()\n",
    "        # input only one sample\n",
    "        if np.random.uniform() < EPSILON:   # greedy\n",
    "            actions_value = self.eval_net(x).detach().cpu()\n",
    "            action = torch.argmax(actions_value).cpu().data.numpy()\n",
    "        else:   # random\n",
    "            action = np.random.randint(0, N_ACTIONS)\n",
    "        return action\n",
    "\n",
    "    def store_transition(self, s, a, r, s_):\n",
    "        transition = np.hstack((s, [a, r], s_))\n",
    "        # replace the old memory with new memory\n",
    "        index = self.memory_counter % MEMORY_CAPACITY\n",
    "        self.memory[index, :] = transition\n",
    "        self.memory_counter += 1\n",
    "\n",
    "    def learn(self):\n",
    "        # target parameter update\n",
    "        if self.learn_step_counter % TARGET_REPLACE_ITER == 0:\n",
    "            self.target_net.load_state_dict(self.eval_net.state_dict())\n",
    "        self.learn_step_counter += 1\n",
    "\n",
    "        # sample batch transitions\n",
    "        sample_index = np.random.choice(MEMORY_CAPACITY, BATCH_SIZE)\n",
    "        b_memory = self.memory[sample_index, :]\n",
    "        b_s = torch.FloatTensor(b_memory[:, :N_STATES]).cuda()\n",
    "        b_a = torch.LongTensor(b_memory[:, N_STATES:N_STATES+1].astype(int))\n",
    "        b_r = torch.FloatTensor(b_memory[:, N_STATES+1:N_STATES+2])\n",
    "        b_s_ = torch.FloatTensor(b_memory[:, -N_STATES:]).cuda()\n",
    "\n",
    "        # q_eval w.r.t the action in experience\n",
    "        out = self.eval_net(b_s).cpu()\n",
    "#         print(out.shape)\n",
    "#         print(\"b_a:\", b_a.shape)\n",
    "#         print(\"b_a:\", b_a.max(), '\\t', b_a.min())\n",
    "        q_eval = out.gather(1, b_a)  # shape (batch, 1) (\n",
    "        q_next = self.target_net(b_s_).detach().cpu()     # detach from graph, don't backpropagate\n",
    "        q_target = b_r + GAMMA * q_next.max(1)[0].view(BATCH_SIZE, 1)   # shape (batch, 1)\n",
    "        loss = self.loss_func(q_eval, q_target)\n",
    "\n",
    "        self.optimizer.zero_grad()\n",
    "        loss.backward()\n",
    "        self.optimizer.step()\n",
    "        \n",
    "    def save_model(self, eval_name = 'eval_net', train_name = 'train_net'):\n",
    "        torch.save(self.eval_net.state_dict(), self.PATH  + str(N_STATES) + eval_name)\n",
    "        torch.save(self.target_net.state_dict(), self.PATH  + str(N_STATES)+ train_name)\n",
    "        \n",
    "    def load_model(self, eval_name = 'eval_net.m', train_name = 'train_net.m'):\n",
    "        self.eval_net.load_state_dict(torch.load(self.PATH +  str(N_STATES) + eval_name))\n",
    "        self.target_net.load_state_dict(torch.load(self.PATH  + str(N_STATES) + train_name))"
   ]
  },
  {
   "cell_type": "code",
   "execution_count": null,
   "metadata": {
    "scrolled": false
   },
   "outputs": [
    {
     "name": "stdout",
     "output_type": "stream",
     "text": [
      "Start\n",
      "\n",
      "Collecting experience...\n"
     ]
    },
    {
     "name": "stderr",
     "output_type": "stream",
     "text": [
      "/home/timetraveller/.local/lib/python3.7/site-packages/ipykernel_launcher.py:16: UserWarning: Implicit dimension choice for softmax has been deprecated. Change the call to include dim=X as an argument.\n",
      "  app.launch_new_instance()\n"
     ]
    },
    {
     "name": "stdout",
     "output_type": "stream",
     "text": [
      "Ep:  200 | Ep_r:  0 Ran for: 100\n",
      "Ep:  300 | Ep_r:  -14 Ran for: 100\n",
      "Ep:  400 | Ep_r:  10 Ran for: 100\n",
      "Ep:  500 | Ep_r:  6 Ran for: 100\n",
      "Ep:  600 | Ep_r:  -14 Ran for: 100\n",
      "Ep:  700 | Ep_r:  8 Ran for: 100\n",
      "Ep:  800 | Ep_r:  16 Ran for: 100\n",
      "Ep:  900 | Ep_r:  14 Ran for: 100\n",
      "Ep:  1000 | Ep_r:  12 Ran for: 100\n",
      "Ep:  1100 | Ep_r:  24 Ran for: 100\n",
      "Ep:  1200 | Ep_r:  18 Ran for: 100\n",
      "Ep:  1300 | Ep_r:  6 Ran for: 100\n",
      "Ep:  1400 | Ep_r:  8 Ran for: 100\n",
      "Ep:  1500 | Ep_r:  0 Ran for: 100\n",
      "Ep:  1600 | Ep_r:  2 Ran for: 100\n",
      "Ep:  1700 | Ep_r:  0 Ran for: 100\n",
      "Ep:  1800 | Ep_r:  12 Ran for: 100\n",
      "Ep:  1900 | Ep_r:  24 Ran for: 100\n",
      "Ep:  2000 | Ep_r:  8 Ran for: 100\n",
      "Ep:  2100 | Ep_r:  26 Ran for: 100\n",
      "Ep:  2200 | Ep_r:  24 Ran for: 100\n",
      "Ep:  2300 | Ep_r:  0 Ran for: 100\n",
      "Ep:  2400 | Ep_r:  14 Ran for: 100\n",
      "Ep:  2500 | Ep_r:  12 Ran for: 100\n",
      "Ep:  2600 | Ep_r:  10 Ran for: 100\n",
      "Ep:  2700 | Ep_r:  -10 Ran for: 100\n",
      "Ep:  2800 | Ep_r:  18 Ran for: 100\n",
      "Ep:  2900 | Ep_r:  2 Ran for: 100\n",
      "Ep:  3000 | Ep_r:  4 Ran for: 100\n",
      "Ep:  3100 | Ep_r:  26 Ran for: 100\n",
      "Ep:  3200 | Ep_r:  24 Ran for: 100\n",
      "Ep:  3300 | Ep_r:  10 Ran for: 100\n",
      "Ep:  3400 | Ep_r:  0 Ran for: 100\n",
      "Ep:  3500 | Ep_r:  24 Ran for: 100\n",
      "Ep:  3600 | Ep_r:  16 Ran for: 100\n",
      "Ep:  3700 | Ep_r:  4 Ran for: 100\n"
     ]
    }
   ],
   "source": [
    "start = time.time()\n",
    "dqn = DQN()\n",
    "# dqn.load_model()\n",
    "print(\"Start\")\n",
    "print('\\nCollecting experience...')\n",
    "history = []\n",
    "for i_episode in range(N_EPS):\n",
    "    s = env.reset()\n",
    "    ep_r = 0\n",
    "    n = 0\n",
    "    while True:\n",
    "        a = dqn.choose_action(s)\n",
    "        s_, r, done, info = env.step(a)\n",
    "        dqn.store_transition(s, a, r, s_)\n",
    "        ep_r += r\n",
    "        n+= 1\n",
    "        \n",
    "        if dqn.memory_counter > MEMORY_CAPACITY:\n",
    "            dqn.learn()\n",
    "        \n",
    "        if done:\n",
    "            history.append(ep_r)\n",
    "            if (dqn.memory_counter > MEMORY_CAPACITY) and i_episode%100==0:\n",
    "                print('Ep: ', i_episode, '| Ep_r: ', ep_r, 'Ran for:', n)\n",
    "            break\n",
    "\n",
    "        s = s_\n",
    "end = time.time()"
   ]
  },
  {
   "cell_type": "code",
   "execution_count": null,
   "metadata": {},
   "outputs": [],
   "source": []
  }
 ],
 "metadata": {
  "kernelspec": {
   "display_name": "Python 3",
   "language": "python",
   "name": "python3"
  },
  "language_info": {
   "codemirror_mode": {
    "name": "ipython",
    "version": 3
   },
   "file_extension": ".py",
   "mimetype": "text/x-python",
   "name": "python",
   "nbconvert_exporter": "python",
   "pygments_lexer": "ipython3",
   "version": "3.7.3"
  }
 },
 "nbformat": 4,
 "nbformat_minor": 2
}
