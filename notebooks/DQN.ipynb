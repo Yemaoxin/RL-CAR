{
 "cells": [
  {
   "cell_type": "markdown",
   "metadata": {},
   "source": [
    "# Imports"
   ]
  },
  {
   "cell_type": "code",
   "execution_count": 1,
   "metadata": {},
   "outputs": [],
   "source": [
    "import torch\n",
    "import torch.nn as nn\n",
    "import torch.nn.functional as F\n",
    "import numpy as np\n",
    "import gym\n",
    "import time\n",
    "from e2 import CacheEnv"
   ]
  },
  {
   "cell_type": "code",
   "execution_count": 81,
   "metadata": {},
   "outputs": [
    {
     "name": "stdout",
     "output_type": "stream",
     "text": [
      "<os_sim.OS object at 0x7f75454fa630>\n",
      "Cache limit: 10\n",
      "Total Pages: 20\n"
     ]
    }
   ],
   "source": [
    "# env vars\n",
    "EPS_LEN = 100\n",
    "# EPS_LEN = 500\n",
    "N_PAGES = 20\n",
    "CACHE_LIMIT = 10 \n",
    "\n",
    "env = CacheEnv(\n",
    "        eps_len=EPS_LEN, \n",
    "        n_pages=N_PAGES, \n",
    "        limit=CACHE_LIMIT\n",
    "        )\n",
    "\n",
    "# dqn vars\n",
    "# N_EPS = 60000\n",
    "N_EPS = 5000\n",
    "BATCH_SIZE = 32\n",
    "LR_adam = 3e-3                   # learning rate for Adam (use adam, sgd is slow even though more \"stable\")\n",
    "LR_sgd = 5e-1                   # learning rate for SGD (pretty high, determined using other notebook)\n",
    "EPSILON = 0.9               # greedy policy\n",
    "GAMMA = 0.9                 # reward discount\n",
    "TARGET_REPLACE_ITER = 2000   # target update frequency\n",
    "MEMORY_CAPACITY = 20000\n",
    "\n",
    "s = env.reset()\n",
    "N_ACTIONS = env.action_space_n\n",
    "STATE_SHAPE = (CACHE_LIMIT, 2)\n",
    "N_STATES = STATE_SHAPE[0]*STATE_SHAPE[1]"
   ]
  },
  {
   "cell_type": "code",
   "execution_count": 82,
   "metadata": {},
   "outputs": [
    {
     "name": "stdout",
     "output_type": "stream",
     "text": [
      "10\n",
      "20\n"
     ]
    }
   ],
   "source": [
    "print(N_ACTIONS)\n",
    "print(N_STATES)"
   ]
  },
  {
   "cell_type": "code",
   "execution_count": 83,
   "metadata": {},
   "outputs": [],
   "source": [
    "class Net(nn.Module):\n",
    "    def __init__(self, ):\n",
    "        super(Net, self).__init__()\n",
    "        input_size = N_STATES\n",
    "        h_dim = 80\n",
    "#         h_dim = 30\n",
    "        self.fc1 = nn.Linear(input_size, h_dim)\n",
    "        self.fc2 = nn.Linear(h_dim, h_dim//4)\n",
    "        self.fc3 = nn.Linear(h_dim//4, h_dim)\n",
    "        self.out = nn.Linear(h_dim, N_ACTIONS)\n",
    "\n",
    "    def forward(self, x):\n",
    "#         bs = x.shape[0]\n",
    "        x = F.relu(self.fc1(x))\n",
    "        x = F.relu(self.fc2(x))\n",
    "        x = F.relu(self.fc3(x))\n",
    "        x = self.out(x)\n",
    "        return x"
   ]
  },
  {
   "cell_type": "code",
   "execution_count": 84,
   "metadata": {},
   "outputs": [],
   "source": [
    "class DQN(object):\n",
    "    def __init__(self):\n",
    "        self.eval_net, self.target_net = Net().cuda(), Net().cuda()\n",
    "        self.learn_step_counter = 0                                     # for target updating\n",
    "        self.memory_counter = 0                                         # for storing memory\n",
    "        self.memory = np.zeros((MEMORY_CAPACITY, N_STATES * 2 + 2))     # initialize memory\n",
    "        self.optimizer = torch.optim.Adam(self.eval_net.parameters(), lr=LR_adam)\n",
    "#         self.optimizer = torch.optim.SGD(self.eval_net.parameters(), lr=LR_sgd)\n",
    "        self.loss_func = nn.MSELoss()\n",
    "        self.PATH = 'model/'\n",
    "\n",
    "    def choose_action(self, x):\n",
    "#         x = torch.unsqueeze(torch.FloatTensor(x), 0).cuda()\n",
    "        x = torch.FloatTensor(x).cuda()\n",
    "        # input only one sample\n",
    "        if np.random.uniform() < EPSILON:   # greedy\n",
    "            actions_value = self.eval_net(x).detach().cpu()\n",
    "            action = torch.argmax(actions_value).data.numpy()\n",
    "        else:   # random\n",
    "            action = np.random.randint(0, N_ACTIONS)\n",
    "        return action\n",
    "\n",
    "    def store_transition(self, s, a, r, s_):\n",
    "        transition = np.hstack((s, [a, r], s_))\n",
    "        # replace the old memory with new memory\n",
    "        index = self.memory_counter % MEMORY_CAPACITY\n",
    "        self.memory[index, :] = transition\n",
    "        self.memory_counter += 1\n",
    "\n",
    "    def learn(self):\n",
    "        # target parameter update\n",
    "        if self.learn_step_counter % TARGET_REPLACE_ITER == 0:\n",
    "            self.target_net.load_state_dict(self.eval_net.state_dict())\n",
    "        self.learn_step_counter += 1\n",
    "\n",
    "        # sample batch transitions\n",
    "        sample_index = np.random.choice(MEMORY_CAPACITY, BATCH_SIZE)\n",
    "        b_memory = self.memory[sample_index, :]\n",
    "        b_s = torch.FloatTensor(b_memory[:, :N_STATES]).cuda()\n",
    "        b_a = torch.LongTensor(b_memory[:, N_STATES:N_STATES+1].astype(int)).cuda()\n",
    "        b_r = torch.FloatTensor(b_memory[:, N_STATES+1:N_STATES+2]).cuda()\n",
    "        b_s_ = torch.FloatTensor(b_memory[:, -N_STATES:]).cuda()\n",
    "\n",
    "        # q_eval w.r.t the action in experience\n",
    "        q_eval = self.eval_net(b_s).gather(1, b_a)  # shape (batch, 1) \n",
    "#         q_eval = self.eval_net(b_s)  # shape (batch, 1) \n",
    "        \n",
    "        q_next = self.target_net(b_s_).detach()   # detach from graph, don't backpropagate\n",
    "#         q_target = b_r + GAMMA * q_next.max(1)[0].view(BATCH_SIZE, 1)   # shape (batch, 1)\n",
    "        q_target = b_r + GAMMA * q_next.argmax(dim=1).view(BATCH_SIZE, 1)   # shape (batch, 1)\n",
    "        \n",
    "        self.q_target = q_target\n",
    "        self.q_eval = q_eval\n",
    "        loss = self.loss_func(q_eval, q_target)\n",
    "\n",
    "        self.optimizer.zero_grad()\n",
    "        loss.backward()\n",
    "        self.optimizer.step()\n",
    "        \n",
    "    def save_model(self, eval_name = 'eval_net', train_name = 'train_net'):\n",
    "        torch.save(self.eval_net.state_dict(), self.PATH  + str(N_STATES) + eval_name)\n",
    "        torch.save(self.target_net.state_dict(), self.PATH  + str(N_STATES)+ train_name)\n",
    "        \n",
    "    def load_model(self, eval_name = 'eval_net.m', train_name = 'train_net.m'):\n",
    "        self.eval_net.load_state_dict(torch.load(self.PATH +  str(N_STATES) + eval_name))\n",
    "        self.target_net.load_state_dict(torch.load(self.PATH  + str(N_STATES) + train_name))"
   ]
  },
  {
   "cell_type": "code",
   "execution_count": 85,
   "metadata": {
    "scrolled": true
   },
   "outputs": [
    {
     "name": "stdout",
     "output_type": "stream",
     "text": [
      "Start\n",
      "\n",
      "Collecting experience...\n",
      "Ep:  200 | Ep_r:  75 Ran for: 100 timesteps\n",
      "Ep:  300 | Ep_r:  127 Ran for: 100 timesteps\n",
      "Ep:  400 | Ep_r:  160 Ran for: 100 timesteps\n",
      "Ep:  500 | Ep_r:  214 Ran for: 100 timesteps\n",
      "Ep:  600 | Ep_r:  133 Ran for: 100 timesteps\n",
      "Ep:  700 | Ep_r:  227 Ran for: 100 timesteps\n",
      "Ep:  800 | Ep_r:  118 Ran for: 100 timesteps\n",
      "Ep:  900 | Ep_r:  194 Ran for: 100 timesteps\n",
      "Ep:  1000 | Ep_r:  88 Ran for: 100 timesteps\n",
      "Ep:  1100 | Ep_r:  147 Ran for: 100 timesteps\n",
      "Ep:  1200 | Ep_r:  173 Ran for: 100 timesteps\n",
      "Ep:  1300 | Ep_r:  103 Ran for: 100 timesteps\n",
      "Ep:  1400 | Ep_r:  99 Ran for: 100 timesteps\n",
      "Ep:  1500 | Ep_r:  118 Ran for: 100 timesteps\n",
      "Ep:  1600 | Ep_r:  108 Ran for: 100 timesteps\n",
      "Ep:  1700 | Ep_r:  121 Ran for: 100 timesteps\n",
      "Ep:  1800 | Ep_r:  109 Ran for: 100 timesteps\n",
      "Ep:  1900 | Ep_r:  123 Ran for: 100 timesteps\n",
      "Ep:  2000 | Ep_r:  152 Ran for: 100 timesteps\n",
      "Ep:  2100 | Ep_r:  134 Ran for: 100 timesteps\n",
      "Ep:  2200 | Ep_r:  148 Ran for: 100 timesteps\n",
      "Ep:  2300 | Ep_r:  172 Ran for: 100 timesteps\n",
      "Ep:  2400 | Ep_r:  97 Ran for: 100 timesteps\n",
      "Ep:  2500 | Ep_r:  117 Ran for: 100 timesteps\n",
      "Ep:  2600 | Ep_r:  132 Ran for: 100 timesteps\n",
      "Ep:  2700 | Ep_r:  124 Ran for: 100 timesteps\n",
      "Ep:  2800 | Ep_r:  133 Ran for: 100 timesteps\n",
      "Ep:  2900 | Ep_r:  110 Ran for: 100 timesteps\n",
      "Ep:  3000 | Ep_r:  105 Ran for: 100 timesteps\n",
      "Ep:  3100 | Ep_r:  127 Ran for: 100 timesteps\n",
      "Ep:  3200 | Ep_r:  144 Ran for: 100 timesteps\n",
      "Ep:  3300 | Ep_r:  83 Ran for: 100 timesteps\n",
      "Ep:  3400 | Ep_r:  130 Ran for: 100 timesteps\n",
      "Ep:  3500 | Ep_r:  114 Ran for: 100 timesteps\n",
      "Ep:  3600 | Ep_r:  191 Ran for: 100 timesteps\n",
      "Ep:  3700 | Ep_r:  128 Ran for: 100 timesteps\n",
      "Ep:  3800 | Ep_r:  115 Ran for: 100 timesteps\n",
      "Ep:  3900 | Ep_r:  126 Ran for: 100 timesteps\n",
      "Ep:  4000 | Ep_r:  140 Ran for: 100 timesteps\n",
      "Ep:  4100 | Ep_r:  109 Ran for: 100 timesteps\n",
      "Ep:  4200 | Ep_r:  96 Ran for: 100 timesteps\n",
      "Ep:  4300 | Ep_r:  115 Ran for: 100 timesteps\n",
      "Ep:  4400 | Ep_r:  74 Ran for: 100 timesteps\n",
      "Ep:  4500 | Ep_r:  161 Ran for: 100 timesteps\n",
      "Ep:  4600 | Ep_r:  125 Ran for: 100 timesteps\n",
      "Ep:  4700 | Ep_r:  146 Ran for: 100 timesteps\n",
      "Ep:  4800 | Ep_r:  182 Ran for: 100 timesteps\n",
      "Ep:  4900 | Ep_r:  144 Ran for: 100 timesteps\n"
     ]
    }
   ],
   "source": [
    "start = time.time()\n",
    "dqn = DQN()\n",
    "# dqn.load_model()\n",
    "print(\"Start\")\n",
    "print('\\nCollecting experience...')\n",
    "history = []\n",
    "for i_episode in range(N_EPS):\n",
    "    s = env.reset()\n",
    "    ep_r = 0\n",
    "    n = 0\n",
    "    while True:\n",
    "        a = dqn.choose_action(s)\n",
    "        s_, r, done, info = env.step(a)\n",
    "        dqn.store_transition(s, a, r, s_)\n",
    "        ep_r += r\n",
    "        n += 1\n",
    "        \n",
    "        if dqn.memory_counter > MEMORY_CAPACITY:\n",
    "            dqn.learn()\n",
    "        \n",
    "        if done:\n",
    "            history.append(ep_r)\n",
    "            if (dqn.memory_counter > MEMORY_CAPACITY) and i_episode%100==0:\n",
    "                print('Ep: ', i_episode, '| Ep_r: ', ep_r, f'Ran for: {n} timesteps')\n",
    "            break\n",
    "\n",
    "        s = s_\n",
    "end = time.time()"
   ]
  },
  {
   "cell_type": "code",
   "execution_count": 87,
   "metadata": {},
   "outputs": [
    {
     "data": {
      "image/png": "[encoded data removed]",
      "text/plain": [
       "<Figure size 720x360 with 1 Axes>"
      ]
     },
     "metadata": {
      "needs_background": "light"
     },
     "output_type": "display_data"
    }
   ],
   "source": [
    "import matplotlib.pyplot as plt\n",
    "plt.figure(figsize=(10, 5))\n",
    "plt.plot(history[:1900])\n",
    "plt.show()"
   ]
  },
  {
   "cell_type": "markdown",
   "metadata": {},
   "source": [
    "# Debugging"
   ]
  },
  {
   "cell_type": "code",
   "execution_count": 88,
   "metadata": {},
   "outputs": [
    {
     "name": "stdout",
     "output_type": "stream",
     "text": [
      "torch.Size([32, 1])\n",
      "torch.Size([32, 1])\n"
     ]
    }
   ],
   "source": [
    "# Debugggging\n",
    "print(dqn.q_eval.shape)\n",
    "print(dqn.q_target.shape)"
   ]
  },
  {
   "cell_type": "code",
   "execution_count": 89,
   "metadata": {},
   "outputs": [],
   "source": [
    "def pretty_print(s):\n",
    "    for i, x in enumerate(s):\n",
    "        if i == len(s)-1:\n",
    "            end = '\\n'\n",
    "        elif i%2 == 0:\n",
    "            end = '-'\n",
    "        else:\n",
    "            end = ', ' \n",
    "        print(x, end=end)"
   ]
  },
  {
   "cell_type": "code",
   "execution_count": 168,
   "metadata": {},
   "outputs": [
    {
     "name": "stdout",
     "output_type": "stream",
     "text": [
      "0.007936507936507936-0.011904761904761904, 0.05952380952380952-0.023809523809523808, 0.003968253968253968-0.023809523809523808, 0.011904761904761904-0.015873015873015872, 0.1388888888888889-0.007936507936507936, 0.05555555555555555-0.007936507936507936, 0.21428571428571427-0.003968253968253968, 0.12698412698412698-0.007936507936507936, 0.11507936507936507-0.007936507936507936, 0.14285714285714285-0.011904761904761904\n",
      "Chosen action: 0\n",
      "0.015810276679841896-0.015810276679841896, 0.07509881422924901-0.023715415019762844, 0.003952569169960474-0.03162055335968379, 0.02766798418972332-0.015810276679841896, 0.007905138339920948-0.011857707509881422, 0.07114624505928854-0.007905138339920948, 0.22924901185770752-0.003952569169960474, 0.1422924901185771-0.007905138339920948, 0.13043478260869565-0.007905138339920948, 0.15810276679841898-0.011857707509881422\n",
      "[4.1451    3.8494682 4.147919  4.1718383 4.057754  3.9412909 3.8782973\n",
      " 4.0805445 4.128989  4.146458 ]\n",
      "[4.199802  3.9082808 4.0870514 4.1921434 4.0685225 3.8823593 3.9638999\n",
      " 4.0693736 4.004525  4.1571727]\n",
      "3\n",
      "0\n"
     ]
    }
   ],
   "source": [
    "# s = env.reset()\n",
    "a = dqn.choose_action(s)\n",
    "pretty_print(s)\n",
    "print(f\"Chosen action: {a}\")\n",
    "s, r, done, info = env.step(a)\n",
    "pretty_print(s)\n",
    "state = torch.Tensor(s).cuda()\n",
    "out1 = dqn.target_net(state).cpu().detach().numpy()\n",
    "out2 = dqn.eval_net(state).cpu().detach().numpy()\n",
    "print(out1)\n",
    "print(out2)\n",
    "\n",
    "print(out1.argmax())\n",
    "print(out2.argmax())"
   ]
  },
  {
   "cell_type": "code",
   "execution_count": null,
   "metadata": {},
   "outputs": [],
   "source": [
    "6-2, 10-1, 2-2, 10-1, 10-1, 10-1, 4-3, 1-2, 10-1, 3-1"
   ]
  },
  {
   "cell_type": "code",
   "execution_count": null,
   "metadata": {},
   "outputs": [],
   "source": [
    "net = Net().cuda()\n",
    "out = net(state)\n",
    "print(out)"
   ]
  },
  {
   "cell_type": "code",
   "execution_count": null,
   "metadata": {},
   "outputs": [],
   "source": [
    "out.max(dim=0)"
   ]
  },
  {
   "cell_type": "code",
   "execution_count": null,
   "metadata": {},
   "outputs": [],
   "source": [
    "lst = [1, 2, 3, 4, 5, 6]\n",
    "lst[::2]"
   ]
  },
  {
   "cell_type": "code",
   "execution_count": 38,
   "metadata": {},
   "outputs": [
    {
     "data": {
      "text/plain": [
       "array([0.06944444, 0.16666667, 0.01388889, 0.15277778, 0.04166667,\n",
       "       0.18055556, 0.19444444, 0.125     , 0.02777778, 0.02777778])"
      ]
     },
     "execution_count": 38,
     "metadata": {},
     "output_type": "execute_result"
    }
   ],
   "source": [
    "s"
   ]
  },
  {
   "cell_type": "code",
   "execution_count": 43,
   "metadata": {},
   "outputs": [
    {
     "name": "stdout",
     "output_type": "stream",
     "text": [
      "[0.06944444 0.01388889 0.04166667 0.19444444 0.02777778]\n",
      "[0.16666667 0.15277778 0.18055556 0.125      0.02777778]\n"
     ]
    },
    {
     "data": {
      "text/plain": [
       "4"
      ]
     },
     "execution_count": 43,
     "metadata": {},
     "output_type": "execute_result"
    }
   ],
   "source": [
    "lru = s[::2]\n",
    "lfu = s[1::2]\n",
    "print(lru)\n",
    "print(lfu)\n",
    "lru.argmin()\n",
    "lfu.argmin()"
   ]
  },
  {
   "cell_type": "markdown",
   "metadata": {},
   "source": [
    "# Compare with LRU and LFU"
   ]
  },
  {
   "cell_type": "code",
   "execution_count": 117,
   "metadata": {},
   "outputs": [
    {
     "data": {
      "application/vnd.jupyter.widget-view+json": {
       "model_id": "79d81922b3e748399f3ffce06af6c45d",
       "version_major": 2,
       "version_minor": 0
      },
      "text/plain": [
       "HBox(children=(IntProgress(value=0, max=1000), HTML(value='')))"
      ]
     },
     "metadata": {},
     "output_type": "display_data"
    },
    {
     "name": "stdout",
     "output_type": "stream",
     "text": [
      "\n"
     ]
    },
    {
     "data": {
      "application/vnd.jupyter.widget-view+json": {
       "model_id": "15c33dafabd5423bb7c698d83b13e33c",
       "version_major": 2,
       "version_minor": 0
      },
      "text/plain": [
       "HBox(children=(IntProgress(value=0, max=1000), HTML(value='')))"
      ]
     },
     "metadata": {},
     "output_type": "display_data"
    },
    {
     "name": "stdout",
     "output_type": "stream",
     "text": [
      "\n"
     ]
    },
    {
     "data": {
      "application/vnd.jupyter.widget-view+json": {
       "model_id": "b5ff576168c1487386ced77d7263a144",
       "version_major": 2,
       "version_minor": 0
      },
      "text/plain": [
       "HBox(children=(IntProgress(value=0, max=1000), HTML(value='')))"
      ]
     },
     "metadata": {},
     "output_type": "display_data"
    },
    {
     "name": "stdout",
     "output_type": "stream",
     "text": [
      "\n"
     ]
    }
   ],
   "source": [
    "from tqdm import tqdm_notebook as tqdm\n",
    "\n",
    "def choose_action(s, agent):\n",
    "    if agent == 'dqn':\n",
    "        return dqn.choose_action(s) \n",
    "    if agent == 'lru':\n",
    "        return s[::2].argmin()\n",
    "    else:\n",
    "        return s[1::2].argmin()\n",
    "    \n",
    "    \n",
    "ntests = 1000\n",
    "performance = {}\n",
    "\n",
    "for agent in \"dqn lru lfu\".split():\n",
    "    for i in tqdm(range(ntests)):\n",
    "        s = env.reset()\n",
    "        nhits = 0\n",
    "        while True:\n",
    "            a = choose_action(s, agent)\n",
    "            s_, r, done, info = env.step(a)\n",
    "            nhits += r\n",
    "\n",
    "            if done:\n",
    "                history.append(nhits)\n",
    "                break\n",
    "            s = s_\n",
    "    performance[agent] = np.array(history).mean()      \n"
   ]
  },
  {
   "cell_type": "code",
   "execution_count": 118,
   "metadata": {},
   "outputs": [
    {
     "data": {
      "text/plain": [
       "{'dqn': 140.24616666666665, 'lru': 135.328, 'lfu': 152.493125}"
      ]
     },
     "execution_count": 118,
     "metadata": {},
     "output_type": "execute_result"
    }
   ],
   "source": [
    "performance"
   ]
  },
  {
   "cell_type": "code",
   "execution_count": null,
   "metadata": {},
   "outputs": [],
   "source": []
  }
 ],
 "metadata": {
  "kernelspec": {
   "display_name": "Python 3",
   "language": "python",
   "name": "python3"
  },
  "language_info": {
   "codemirror_mode": {
    "name": "ipython",
    "version": 3
   },
   "file_extension": ".py",
   "mimetype": "text/x-python",
   "name": "python",
   "nbconvert_exporter": "python",
   "pygments_lexer": "ipython3",
   "version": "3.7.3"
  }
 },
 "nbformat": 4,
 "nbformat_minor": 2
}
