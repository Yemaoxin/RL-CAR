{
 "cells": [
  {
   "cell_type": "markdown",
   "metadata": {},
   "source": [
    "# Imports"
   ]
  },
  {
   "cell_type": "code",
   "execution_count": 101,
   "metadata": {},
   "outputs": [
    {
     "name": "stdout",
     "output_type": "stream",
     "text": [
      "Using device: cuda\n"
     ]
    },
    {
     "data": {
      "text/plain": [
       "<torch._C.Generator at 0x7efbe00350b0>"
      ]
     },
     "execution_count": 101,
     "metadata": {},
     "output_type": "execute_result"
    }
   ],
   "source": [
    "import torch\n",
    "import torch.nn as nn\n",
    "import torch.nn.functional as F\n",
    "import numpy as np\n",
    "import gym\n",
    "import time\n",
    "from e2 import CacheEnv\n",
    "from tqdm import tqdm_notebook as tqdm\n",
    "\n",
    "import random\n",
    "import matplotlib.pyplot as plt\n",
    "import matplotlib\n",
    "from collections import namedtuple\n",
    "from itertools import count\n",
    "from PIL import Image\n",
    "\n",
    "import torch.optim as optim\n",
    "import math\n",
    "import torchvision.transforms as T\n",
    "\n",
    "device = torch.device(\"cuda\" if torch.cuda.is_available() else \"cpu\")\n",
    "print(f\"Using device: {device}\")\n",
    "\n",
    "is_ipython = 'inline' in matplotlib.get_backend()\n",
    "if is_ipython:\n",
    "    from IPython import display\n",
    "plt.ion()\n",
    "torch.manual_seed(7)"
   ]
  },
  {
   "cell_type": "code",
   "execution_count": 102,
   "metadata": {},
   "outputs": [],
   "source": [
    "Transition = namedtuple('Transition',\n",
    "                        ('state', 'action', 'next_state', 'reward'))\n",
    "\n",
    "\n",
    "class ReplayMemory(object):\n",
    "\n",
    "    def __init__(self, capacity):\n",
    "        self.capacity = capacity\n",
    "        self.memory = []\n",
    "        self.position = 0\n",
    "\n",
    "    def push(self, *args):\n",
    "        \"\"\"Saves a transition.\"\"\"\n",
    "        if len(self.memory) < self.capacity:\n",
    "            self.memory.append(None)\n",
    "        self.memory[self.position] = Transition(*args)\n",
    "        self.position = (self.position + 1) % self.capacity\n",
    "\n",
    "    def sample(self, batch_size):\n",
    "        return random.sample(self.memory, batch_size)\n",
    "\n",
    "    def __len__(self):\n",
    "        return len(self.memory)"
   ]
  },
  {
   "cell_type": "code",
   "execution_count": 103,
   "metadata": {},
   "outputs": [
    {
     "name": "stdout",
     "output_type": "stream",
     "text": [
      "tensor([0.6413, 0.8875, 0.8863, 0.6594])\n"
     ]
    }
   ],
   "source": [
    "x = torch.rand((1,))\n",
    "y = torch.rand(4,)\n",
    "print(x*y+x)"
   ]
  },
  {
   "cell_type": "code",
   "execution_count": 197,
   "metadata": {},
   "outputs": [],
   "source": [
    "class Net(nn.Module):\n",
    "    def __init__(self):\n",
    "        super(Net, self).__init__()\n",
    "        input_size = CACHE_LIMIT\n",
    "        self.h_dim = 16\n",
    "        self.lu_weight = torch.rand(1).to(device)\n",
    "        self.fu_wight = torch.rand(1).to(device)\n",
    "#         h_dim = 30\n",
    "        self.fc_lu = nn.Linear(input_size, self.h_dim)\n",
    "        self.fc_fu = nn.Linear(input_size,self.h_dim)\n",
    "        self.out_lu = nn.Linear(self.h_dim, n_actions)\n",
    "        self.out_fu = nn.Linear(self.h_dim, n_actions)\n",
    "\n",
    "    def forward(self, x):\n",
    "        \n",
    "#         if len(x.shape) == 1:\n",
    "#             x = x.view(-1, x.size(0))\n",
    "        lu_vec = x[:5].view(-1,5)\n",
    "        print(lu_vec.shape)\n",
    "        fu_vec = x[-5:].view(-1,5)\n",
    "        print(fu_vec.shape)\n",
    "\n",
    "        temp_lu = F.relu(self.out_lu(self.fc_lu(lu_vec)))\n",
    "        temp_fu = F.relu(self.out_fu(self.fc_fu(fu_vec)))\n",
    "        x = F.relu(self.lu_weight*temp_lu + self.fu_wight*temp_fu)\n",
    "        return x"
   ]
  },
  {
   "cell_type": "code",
   "execution_count": 198,
   "metadata": {},
   "outputs": [],
   "source": [
    "# x = torch.rand((10,))\n",
    "# obj = Net()\n",
    "# print(obj(x))"
   ]
  },
  {
   "cell_type": "code",
   "execution_count": 199,
   "metadata": {},
   "outputs": [
    {
     "name": "stdout",
     "output_type": "stream",
     "text": [
      "<os_sim.OS object at 0x7efb53204278>\n",
      "Cache limit: 5\n",
      "Total Pages: 10\n"
     ]
    }
   ],
   "source": [
    "BATCH_SIZE = 128\n",
    "GAMMA = 0.999\n",
    "EPS_START = 0.9\n",
    "EPS_END = 0.05\n",
    "EPS_DECAY = 200\n",
    "# TARGET_UPDATE = 10\n",
    "TARGET_UPDATE = 200\n",
    "\n",
    "# EPS_LEN = 100\n",
    "EPS_LEN = 200\n",
    "N_PAGES = 10\n",
    "CACHE_LIMIT = 5 \n",
    "STATE_SHAPE = (CACHE_LIMIT, 2)\n",
    "# N_STATES = STATE_SHAPE[0]*STATE_SHAPE[1]\n",
    "\n",
    "env = CacheEnv(\n",
    "        eps_len=EPS_LEN, \n",
    "        n_pages=N_PAGES, \n",
    "        limit=CACHE_LIMIT\n",
    "        )\n",
    "\n",
    "\n",
    "# Get number of actions from gym action space\n",
    "n_actions = env.action_space_n\n",
    "\n",
    "policy_net =  Net().to(device)\n",
    "target_net = Net().to(device)\n",
    "target_net.load_state_dict(policy_net.state_dict())\n",
    "target_net.eval()\n",
    "\n",
    "# optimizer = optim.RMSprop(policy_net.parameters())\n",
    "optimizer = optim.Adam(policy_net.parameters(), 3e-3)\n",
    "memory = ReplayMemory(10000)\n",
    "\n",
    "\n",
    "steps_done = 0\n",
    "\n",
    "\n",
    "def select_action(state):\n",
    "#     state = torch.Tensor(state).to(device)\n",
    "#     print(state.shape)\n",
    "    global steps_done\n",
    "    sample = random.random()\n",
    "    eps_threshold = EPS_END + (EPS_START - EPS_END) * \\\n",
    "        math.exp(-1. * steps_done / EPS_DECAY)\n",
    "    steps_done += 1\n",
    "    if sample > eps_threshold:\n",
    "        with torch.no_grad():\n",
    "            # t.max(1) will return largest column value of each row.\n",
    "            # second column on max result is index of where max element was\n",
    "            # found, so we pick action with the larger expected reward.\n",
    "#             out = policy_net(state)\n",
    "#             print(out)\n",
    "#             print(out.shape)\n",
    "            return np.argmax(policy_net(state).data.cpu().numpy())\n",
    "    else:\n",
    "        \n",
    "        return np.random.choice(np.array(range(n_actions)))\n",
    "\n",
    "episode_durations = []\n",
    "\n",
    "\n",
    "def plot_durations():\n",
    "    plt.figure(2)\n",
    "    plt.clf()\n",
    "    durations_t = torch.tensor(episode_durations, dtype=torch.float)\n",
    "    plt.title('Training...')\n",
    "    plt.xlabel('Episode')\n",
    "    plt.ylabel('Duration')\n",
    "    plt.plot(durations_t.numpy())\n",
    "    # Take 100 episode averages and plot them too\n",
    "    if len(durations_t) >= 100:\n",
    "        means = durations_t.unfold(0, 100, 1).mean(1).view(-1)\n",
    "        means = torch.cat((torch.zeros(99), means))\n",
    "        plt.plot(means.numpy())\n",
    "\n",
    "    plt.pause(0.001)  # pause a bit so that plots are updated\n",
    "    if is_ipython:\n",
    "        display.clear_output(wait=True)\n",
    "        display.display(plt.gcf())"
   ]
  },
  {
   "cell_type": "code",
   "execution_count": 200,
   "metadata": {},
   "outputs": [],
   "source": [
    "batch = None\n",
    "def optimize_model():\n",
    "    global batch\n",
    "    if len(memory) < BATCH_SIZE:\n",
    "        return\n",
    "    transitions = memory.sample(BATCH_SIZE)\n",
    "    # Transpose the batch (see https://stackoverflow.com/a/19343/3343043 for\n",
    "    # detailed explanation). This converts batch-array of Transitions\n",
    "    # to Transition of batch-arrays.\n",
    "    batch = Transition(*zip(*transitions))\n",
    "\n",
    "    # Compute a mask of non-final states and concatenate the batch elements\n",
    "    # (a final state would've been the one after which simulation ended)\n",
    "    non_final_mask = torch.tensor(tuple(map(lambda s: s is not None,\n",
    "                                          batch.next_state)), device=device, dtype=torch.bool)\n",
    "    non_final_next_states = torch.cat([s for s in batch.next_state\n",
    "                                                if s is not None]).view(-1, CACHE_LIMIT*2)\n",
    "#     state_batch = torch.cat(batch.state)\n",
    "    state_batch = torch.cat(batch.state).view(-1, CACHE_LIMIT*2)\n",
    "#     print(type(batch.action),batch.action[0].dtype)\n",
    "    \n",
    "    action_batch = torch.tensor(np.array(batch.action)).to(device)\n",
    "    reward_batch = torch.cat(batch.reward)\n",
    "\n",
    "    # Compute Q(s_t, a) - the model computes Q(s_t), then we select the\n",
    "    # columns of actions taken. These are the actions which would've been taken\n",
    "    # for each batch state according to policy_net\n",
    "    state_action_values = policy_net(state_batch).gather(1, action_batch)\n",
    "\n",
    "    # Compute V(s_{t+1}) for all next states.\n",
    "    # Expected values of actions for non_final_next_states are computed based\n",
    "    # on the \"older\" target_net; selecting their best reward with max(1)[0].\n",
    "    # This is merged based on the mask, such that we'll have either the expected\n",
    "    # state value or 0 in case the state was final.\n",
    "    next_state_values = torch.zeros(BATCH_SIZE, device=device)\n",
    "    next_state_values[non_final_mask] = target_net(non_final_next_states).max(1)[0].detach()\n",
    "    # Compute the expected Q values\n",
    "#     print(reward_batch.dtype)\n",
    "    expected_state_action_values = (next_state_values * GAMMA) + reward_batch.float()\n",
    "\n",
    "    # Compute Huber loss\n",
    "    loss = F.smooth_l1_loss(state_action_values, expected_state_action_values.unsqueeze(1))\n",
    "\n",
    "    # Optimize the model\n",
    "    optimizer.zero_grad()\n",
    "    loss.backward()\n",
    "    for param in policy_net.parameters():\n",
    "        param.grad.data.clamp_(-1, 1)\n",
    "    optimizer.step()"
   ]
  },
  {
   "cell_type": "code",
   "execution_count": 201,
   "metadata": {
    "scrolled": true
   },
   "outputs": [
    {
     "data": {
      "application/vnd.jupyter.widget-view+json": {
       "model_id": "62879918f291412f8e449b7a939b709a",
       "version_major": 2,
       "version_minor": 0
      },
      "text/plain": [
       "HBox(children=(IntProgress(value=0, max=5000), HTML(value='')))"
      ]
     },
     "metadata": {},
     "output_type": "display_data"
    },
    {
     "name": "stdout",
     "output_type": "stream",
     "text": [
      "torch.Size([1, 5])\n",
      "torch.Size([1, 5])\n",
      "torch.Size([1, 5])\n",
      "torch.Size([1, 5])\n",
      "torch.Size([1, 5])\n",
      "torch.Size([1, 5])\n",
      "torch.Size([1, 5])\n",
      "torch.Size([1, 5])\n",
      "torch.Size([1, 5])\n",
      "torch.Size([1, 5])\n",
      "torch.Size([1, 5])\n",
      "torch.Size([1, 5])\n",
      "torch.Size([1, 5])\n",
      "torch.Size([1, 5])\n",
      "torch.Size([1, 5])\n",
      "torch.Size([1, 5])\n",
      "torch.Size([1, 5])\n",
      "torch.Size([1, 5])\n",
      "torch.Size([1, 5])\n",
      "torch.Size([1, 5])\n",
      "torch.Size([1, 5])\n",
      "torch.Size([1, 5])\n",
      "torch.Size([1, 5])\n",
      "torch.Size([1, 5])\n",
      "torch.Size([1, 5])\n",
      "torch.Size([1, 5])\n",
      "torch.Size([1, 5])\n",
      "torch.Size([1, 5])\n",
      "torch.Size([1, 5])\n",
      "torch.Size([1, 5])\n",
      "torch.Size([1, 5])\n",
      "torch.Size([1, 5])\n",
      "torch.Size([1, 5])\n",
      "torch.Size([1, 5])\n",
      "torch.Size([1, 5])\n",
      "torch.Size([1, 5])\n",
      "torch.Size([1, 5])\n",
      "torch.Size([1, 5])\n",
      "torch.Size([1, 5])\n",
      "torch.Size([1, 5])\n",
      "torch.Size([1, 5])\n",
      "torch.Size([1, 5])\n",
      "torch.Size([1, 5])\n",
      "torch.Size([1, 5])\n",
      "torch.Size([1, 5])\n",
      "torch.Size([1, 5])\n",
      "torch.Size([1, 5])\n",
      "torch.Size([1, 5])\n",
      "torch.Size([1, 5])\n",
      "torch.Size([1, 5])\n",
      "torch.Size([1, 5])\n",
      "torch.Size([1, 5])\n",
      "torch.Size([1, 5])\n",
      "torch.Size([1, 5])\n",
      "torch.Size([1, 5])\n",
      "torch.Size([1, 5])\n",
      "torch.Size([1, 5])\n",
      "torch.Size([1, 5])\n",
      "torch.Size([1, 5])\n",
      "torch.Size([1, 5])\n",
      "torch.Size([1, 5])\n",
      "torch.Size([1, 5])\n",
      "torch.Size([1, 5])\n",
      "torch.Size([1, 5])\n",
      "torch.Size([1, 5])\n",
      "torch.Size([1, 5])\n",
      "torch.Size([1, 5])\n",
      "torch.Size([1, 5])\n",
      "torch.Size([1, 5])\n",
      "torch.Size([1, 5])\n",
      "torch.Size([1, 5])\n",
      "torch.Size([1, 5])\n",
      "torch.Size([1, 5])\n",
      "torch.Size([1, 5])\n",
      "torch.Size([1, 5])\n",
      "torch.Size([1, 5])\n",
      "torch.Size([1, 5])\n",
      "torch.Size([1, 5])\n",
      "torch.Size([10, 5])\n",
      "torch.Size([10, 5])\n",
      "\n"
     ]
    },
    {
     "ename": "RuntimeError",
     "evalue": "invalid argument 4: Index tensor must have same dimensions as input tensor at /pytorch/aten/src/THC/generic/THCTensorScatterGather.cu:16",
     "output_type": "error",
     "traceback": [
      "\u001b[0;31m---------------------------------------------------------------------------\u001b[0m",
      "\u001b[0;31mRuntimeError\u001b[0m                              Traceback (most recent call last)",
      "\u001b[0;32m<ipython-input-201-28b2d2814cb5>\u001b[0m in \u001b[0;36m<module>\u001b[0;34m\u001b[0m\n\u001b[1;32m     32\u001b[0m \u001b[0;34m\u001b[0m\u001b[0m\n\u001b[1;32m     33\u001b[0m         \u001b[0;31m# Perform one step of the optimization (on the target network)\u001b[0m\u001b[0;34m\u001b[0m\u001b[0;34m\u001b[0m\u001b[0;34m\u001b[0m\u001b[0m\n\u001b[0;32m---> 34\u001b[0;31m         \u001b[0moptimize_model\u001b[0m\u001b[0;34m(\u001b[0m\u001b[0;34m)\u001b[0m\u001b[0;34m\u001b[0m\u001b[0;34m\u001b[0m\u001b[0m\n\u001b[0m\u001b[1;32m     35\u001b[0m         \u001b[0;32mif\u001b[0m \u001b[0mdone\u001b[0m\u001b[0;34m:\u001b[0m\u001b[0;34m\u001b[0m\u001b[0;34m\u001b[0m\u001b[0m\n\u001b[1;32m     36\u001b[0m             \u001b[0mepisode_durations\u001b[0m\u001b[0;34m.\u001b[0m\u001b[0mappend\u001b[0m\u001b[0;34m(\u001b[0m\u001b[0mt\u001b[0m \u001b[0;34m+\u001b[0m \u001b[0;36m1\u001b[0m\u001b[0;34m)\u001b[0m\u001b[0;34m\u001b[0m\u001b[0;34m\u001b[0m\u001b[0m\n",
      "\u001b[0;32m<ipython-input-200-307a7d2b9eb2>\u001b[0m in \u001b[0;36moptimize_model\u001b[0;34m()\u001b[0m\n\u001b[1;32m     26\u001b[0m     \u001b[0;31m# columns of actions taken. These are the actions which would've been taken\u001b[0m\u001b[0;34m\u001b[0m\u001b[0;34m\u001b[0m\u001b[0;34m\u001b[0m\u001b[0m\n\u001b[1;32m     27\u001b[0m     \u001b[0;31m# for each batch state according to policy_net\u001b[0m\u001b[0;34m\u001b[0m\u001b[0;34m\u001b[0m\u001b[0;34m\u001b[0m\u001b[0m\n\u001b[0;32m---> 28\u001b[0;31m     \u001b[0mstate_action_values\u001b[0m \u001b[0;34m=\u001b[0m \u001b[0mpolicy_net\u001b[0m\u001b[0;34m(\u001b[0m\u001b[0mstate_batch\u001b[0m\u001b[0;34m)\u001b[0m\u001b[0;34m.\u001b[0m\u001b[0mgather\u001b[0m\u001b[0;34m(\u001b[0m\u001b[0;36m1\u001b[0m\u001b[0;34m,\u001b[0m \u001b[0maction_batch\u001b[0m\u001b[0;34m)\u001b[0m\u001b[0;34m\u001b[0m\u001b[0;34m\u001b[0m\u001b[0m\n\u001b[0m\u001b[1;32m     29\u001b[0m \u001b[0;34m\u001b[0m\u001b[0m\n\u001b[1;32m     30\u001b[0m     \u001b[0;31m# Compute V(s_{t+1}) for all next states.\u001b[0m\u001b[0;34m\u001b[0m\u001b[0;34m\u001b[0m\u001b[0;34m\u001b[0m\u001b[0m\n",
      "\u001b[0;31mRuntimeError\u001b[0m: invalid argument 4: Index tensor must have same dimensions as input tensor at /pytorch/aten/src/THC/generic/THCTensorScatterGather.cu:16"
     ]
    }
   ],
   "source": [
    "num_episodes = 5000\n",
    "\n",
    "history = []\n",
    "for i_episode in tqdm(range(num_episodes)):\n",
    "    # Initialize the environment and state\n",
    "    state = env.reset()\n",
    "    state = torch.Tensor(state).to(device)\n",
    "    ep_r = 0\n",
    "    actions = []\n",
    "    for t in count():\n",
    "        # Select and perform an action\n",
    "        action = select_action(state)\n",
    "        actions.append(action)\n",
    "#         print(f\"Selection action: {action}\")\n",
    "        state_, reward, done, _ = env.step(action.item())\n",
    "        state_ = torch.Tensor(state_).to(device)\n",
    "        reward = torch.tensor([reward], device=device)\n",
    "        ep_r += reward\n",
    "\n",
    "        # Observe new state\n",
    "\n",
    "        if not done:\n",
    "            next_state = state_ \n",
    "        else:\n",
    "            next_state = None\n",
    "\n",
    "        # Store the transition in memory\n",
    "        memory.push(state, action, next_state, reward)\n",
    "\n",
    "        # Move to the next state\n",
    "        state = next_state\n",
    "\n",
    "        # Perform one step of the optimization (on the target network)\n",
    "        optimize_model()\n",
    "        if done:\n",
    "            episode_durations.append(t + 1)\n",
    "            epr = ep_r.cpu().numpy()[0]\n",
    "            history.append(epr)\n",
    "            (values,counts) = np.unique(np.array(actions), return_counts=True)\n",
    "            ind=np.argmax(counts)\n",
    "            counts.sort()\n",
    "            if i_episode%50 == 0:\n",
    "                print(f\"Ep: {i_episode} | Reward: {epr} | Most common action: {values[ind]} | Top freq: {counts[::-1][:10]}\")\n",
    "            \n",
    "#             plot_durations()\n",
    "            break\n",
    "    # Update the target network, copying all weights and biases in DQN\n",
    "    if i_episode % TARGET_UPDATE == 0:\n",
    "        target_net.load_state_dict(policy_net.state_dict())\n",
    "\n",
    "print('Complete')\n",
    "env.render()\n",
    "env.close()\n",
    "plt.ioff()\n",
    "plt.show()\n"
   ]
  },
  {
   "cell_type": "code",
   "execution_count": 149,
   "metadata": {},
   "outputs": [
    {
     "data": {
      "image/png": "[encoded data removed]",
      "text/plain": [
       "<Figure size 720x360 with 1 Axes>"
      ]
     },
     "metadata": {
      "needs_background": "light"
     },
     "output_type": "display_data"
    }
   ],
   "source": [
    "import matplotlib.pyplot as plt\n",
    "plt.figure(figsize=(10, 5))\n",
    "plt.plot(history[:1000])\n",
    "# plt.plot(history)\n",
    "plt.show()"
   ]
  },
  {
   "cell_type": "markdown",
   "metadata": {},
   "source": [
    "# Debug"
   ]
  },
  {
   "cell_type": "code",
   "execution_count": null,
   "metadata": {},
   "outputs": [],
   "source": [
    "# def pretty_print(s):\n",
    "#     for i, x in enumerate(s):\n",
    "#         if i == len(s)-1:\n",
    "#             end = '\\n'\n",
    "#         elif i%2 == 0:\n",
    "#             end = '-'\n",
    "#         else:\n",
    "#             end = ', ' \n",
    "#         print(x, end=end)"
   ]
  },
  {
   "cell_type": "code",
   "execution_count": null,
   "metadata": {},
   "outputs": [],
   "source": []
  },
  {
   "cell_type": "markdown",
   "metadata": {},
   "source": [
    "# Compare with others"
   ]
  },
  {
   "cell_type": "code",
   "execution_count": null,
   "metadata": {},
   "outputs": [],
   "source": [
    "\n",
    "def choose_action(s, agent):\n",
    "    if agent == 'dqn':\n",
    "        return select_action(torch.Tensor(s).to(device)) \n",
    "    if agent == 'lru':\n",
    "        return s[::2].argmin()\n",
    "    if agent == 'random':\n",
    "        return np.random.randint(n_actions)\n",
    "    else:\n",
    "        return s[1::2].argmin()\n",
    "    \n",
    "    \n",
    "ntests = 1000\n",
    "performance = {}\n",
    "\n",
    "for agent in \"dqn random lru lfu\".split():\n",
    "    for i in tqdm(range(ntests)):\n",
    "        s = env.reset()\n",
    "        nhits = 0\n",
    "        while True:\n",
    "            a = choose_action(s, agent)\n",
    "            s_, r, done, info = env.step(a)\n",
    "            nhits += r\n",
    "\n",
    "            if done:\n",
    "                history.append(nhits)\n",
    "                break\n",
    "            s = s_\n",
    "    performance[agent] = np.array(history).mean()      \n"
   ]
  },
  {
   "cell_type": "code",
   "execution_count": null,
   "metadata": {},
   "outputs": [],
   "source": [
    "performance"
   ]
  },
  {
   "cell_type": "code",
   "execution_count": null,
   "metadata": {},
   "outputs": [],
   "source": []
  }
 ],
 "metadata": {
  "kernelspec": {
   "display_name": "Python 3",
   "language": "python",
   "name": "python3"
  },
  "language_info": {
   "codemirror_mode": {
    "name": "ipython",
    "version": 3
   },
   "file_extension": ".py",
   "mimetype": "text/x-python",
   "name": "python",
   "nbconvert_exporter": "python",
   "pygments_lexer": "ipython3",
   "version": "3.7.3"
  }
 },
 "nbformat": 4,
 "nbformat_minor": 2
}
